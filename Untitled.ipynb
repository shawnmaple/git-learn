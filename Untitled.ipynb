{
 "cells": [
  {
   "cell_type": "code",
   "execution_count": 100,
   "metadata": {},
   "outputs": [],
   "source": [
    "!gitk"
   ]
  },
  {
   "cell_type": "code",
   "execution_count": 103,
   "metadata": {},
   "outputs": [],
   "source": [
    "!echo \"Hello China\">>readme.txt"
   ]
  },
  {
   "cell_type": "code",
   "execution_count": 104,
   "metadata": {},
   "outputs": [],
   "source": [
    "%pycat readme.txt"
   ]
  },
  {
   "cell_type": "code",
   "execution_count": 105,
   "metadata": {},
   "outputs": [
    {
     "name": "stdout",
     "output_type": "stream",
     "text": [
      "[master 29045c3] hello China\r\n",
      " 1 file changed, 1 insertion(+)\r\n"
     ]
    }
   ],
   "source": [
    "!git commit -a -m\"hello China\""
   ]
  },
  {
   "cell_type": "code",
   "execution_count": 106,
   "metadata": {},
   "outputs": [],
   "source": [
    "!echo \"Hello Beijing\">>readme.txt"
   ]
  },
  {
   "cell_type": "code",
   "execution_count": 107,
   "metadata": {},
   "outputs": [],
   "source": [
    "!git add -A"
   ]
  },
  {
   "cell_type": "code",
   "execution_count": 108,
   "metadata": {},
   "outputs": [
    {
     "name": "stdout",
     "output_type": "stream",
     "text": [
      "[master 53fc133] hello Beijing\r\n",
      " 4 files changed, 438 insertions(+)\r\n",
      " create mode 100644 .ipynb_checkpoints/Untitled-checkpoint.ipynb\r\n",
      " create mode 160000 Git-Tutorial-By-liaoxuefeng\r\n",
      " create mode 100644 Untitled.ipynb\r\n"
     ]
    }
   ],
   "source": [
    "!git commit -m\"hello Beijing\""
   ]
  },
  {
   "cell_type": "code",
   "execution_count": 109,
   "metadata": {},
   "outputs": [
    {
     "name": "stdout",
     "output_type": "stream",
     "text": [
      "\u001b[33mcommit 53fc1332b67acca4dd9868e146f80af8cb2d0fca\u001b[m\r\n",
      "Author: Shawn <18829354118@163.com>\r\n",
      "Date:   Mon Apr 16 16:11:13 2018 +0800\r\n",
      "\r\n",
      "    hello Beijing\r\n",
      "\r\n",
      "\u001b[33mcommit 29045c354620fa39a13c053c42ced6ba3cf0e77a\u001b[m\r\n",
      "Author: Shawn <18829354118@163.com>\r\n",
      "Date:   Mon Apr 16 16:11:10 2018 +0800\r\n",
      "\r\n",
      "    hello China\r\n",
      "\r\n",
      "\u001b[33mcommit d25e05ebfd3bf7a11bf5bb942a5d85dbb314c0f1\u001b[m\r\n",
      "Author: Shawn <18829354118@163.com>\r\n",
      "Date:   Sun Apr 15 21:36:24 2018 +0800\r\n",
      "\r\n",
      "    add readme.txt\r\n"
     ]
    }
   ],
   "source": [
    "!git log"
   ]
  },
  {
   "cell_type": "code",
   "execution_count": 124,
   "metadata": {},
   "outputs": [
    {
     "name": "stdout",
     "output_type": "stream",
     "text": [
      "重置后取消暂存的变更：\r\n",
      "M\treadme.txt\r\n"
     ]
    }
   ],
   "source": [
    "!git reset --mixed HEAD^"
   ]
  },
  {
   "cell_type": "code",
   "execution_count": 131,
   "metadata": {},
   "outputs": [],
   "source": [
    "pycat readme.txt"
   ]
  },
  {
   "cell_type": "code",
   "execution_count": 126,
   "metadata": {
    "scrolled": false
   },
   "outputs": [
    {
     "name": "stdout",
     "output_type": "stream",
     "text": [
      "\u001b[33m29045c3\u001b[m hello China\r\n",
      "\u001b[33md25e05e\u001b[m add readme.txt\r\n"
     ]
    }
   ],
   "source": [
    "!git log --oneline  --all"
   ]
  },
  {
   "cell_type": "code",
   "execution_count": 132,
   "metadata": {},
   "outputs": [
    {
     "name": "stdout",
     "output_type": "stream",
     "text": [
      "[master 9617b52] hello Beijng\r\n",
      " 1 file changed, 1 insertion(+)\r\n"
     ]
    }
   ],
   "source": [
    "!git commit -a -m\"hello Beijng\""
   ]
  },
  {
   "cell_type": "code",
   "execution_count": 118,
   "metadata": {},
   "outputs": [
    {
     "name": "stdout",
     "output_type": "stream",
     "text": [
      "位于分支 master\r\n",
      "您的分支领先 'origin/master' 共 1 个提交。\r\n",
      "  （使用 \"git push\" 来发布您的本地提交）\r\n",
      "尚未暂存以备提交的变更：\r\n",
      "\t\u001b[31m修改：     readme.txt\u001b[m\r\n",
      "\r\n",
      "未跟踪的文件:\r\n",
      "\t\u001b[31m.ipynb_checkpoints/\u001b[m\r\n",
      "\t\u001b[31mGit-Tutorial-By-liaoxuefeng/\u001b[m\r\n",
      "\t\u001b[31mUntitled.ipynb\u001b[m\r\n",
      "\r\n",
      "修改尚未加入提交\r\n"
     ]
    }
   ],
   "source": [
    "!git commit -m\"hello Beijing\""
   ]
  },
  {
   "cell_type": "code",
   "execution_count": 127,
   "metadata": {},
   "outputs": [],
   "source": [
    "!gitk"
   ]
  },
  {
   "cell_type": "code",
   "execution_count": 133,
   "metadata": {},
   "outputs": [
    {
     "name": "stdout",
     "output_type": "stream",
     "text": [
      "\u001b[33m9617b52\u001b[m HEAD@{0}: commit: hello Beijng\r\n",
      "\u001b[33m29045c3\u001b[m HEAD@{1}: reset: moving to HEAD^\r\n",
      "\u001b[33m2bf576c\u001b[m HEAD@{2}: commit: hello Beijng\r\n",
      "\u001b[33m29045c3\u001b[m HEAD@{3}: reset: moving to HEAD^\r\n",
      "\u001b[33m5997a43\u001b[m HEAD@{4}: commit: hello Beijing\r\n",
      "\u001b[33m29045c3\u001b[m HEAD@{5}: reset: moving to HEAD^\r\n",
      "\u001b[33m53fc133\u001b[m HEAD@{6}: commit: hello Beijing\r\n",
      "\u001b[33m29045c3\u001b[m HEAD@{7}: commit: hello China\r\n",
      "\u001b[33md25e05e\u001b[m HEAD@{8}: reset: moving to HEAD^\r\n",
      "\u001b[33md7e18e8\u001b[m HEAD@{9}: commit: hello\r\n",
      "\u001b[33md25e05e\u001b[m HEAD@{10}: reset: moving to HEAD^\r\n",
      "\u001b[33m99dff75\u001b[m HEAD@{11}: commit: hello\r\n",
      "\u001b[33md25e05e\u001b[m HEAD@{12}: reset: moving to HEAD^\r\n",
      "\u001b[33mfef60ab\u001b[m HEAD@{13}: reset: moving to HEAD^\r\n",
      "\u001b[33ma30c539\u001b[m HEAD@{14}: commit: hello Beijng\r\n",
      "\u001b[33mfef60ab\u001b[m HEAD@{15}: reset: moving to HEAD^\r\n",
      "\u001b[33m1cf0faa\u001b[m HEAD@{16}: commit: hello Beijng\r\n",
      "\u001b[33mfef60ab\u001b[m HEAD@{17}: reset: moving to HEAD^\r\n",
      "\u001b[33m713c8c6\u001b[m HEAD@{18}: commit: hello Beijing\r\n",
      "\u001b[33mfef60ab\u001b[m HEAD@{19}: commit: hello China\r\n",
      "\u001b[33md25e05e\u001b[m HEAD@{20}: reset: moving to HEAD^\r\n",
      "\u001b[33meb4ecaa\u001b[m HEAD@{21}: commit: hello Beijing\r\n",
      "\u001b[33md25e05e\u001b[m HEAD@{22}: reset: moving to HEAD^\r\n",
      "\u001b[33m43bfda0\u001b[m HEAD@{23}: reset: moving to HEAD^\r\n",
      "\u001b[33m6acd96c\u001b[m HEAD@{24}: commit: hello Beijing\r\n",
      "\u001b[33m43bfda0\u001b[m HEAD@{25}: commit: hello China\r\n",
      "\u001b[33md25e05e\u001b[m HEAD@{26}: commit (initial): add readme.txt\r\n"
     ]
    }
   ],
   "source": [
    "!git reflog"
   ]
  },
  {
   "cell_type": "code",
   "execution_count": 140,
   "metadata": {},
   "outputs": [
    {
     "name": "stdout",
     "output_type": "stream",
     "text": [
      "HEAD 现在位于 9617b52 hello Beijng\r\n"
     ]
    }
   ],
   "source": [
    "!git reset --hard 9617b52"
   ]
  },
  {
   "cell_type": "code",
   "execution_count": 141,
   "metadata": {},
   "outputs": [],
   "source": [
    "pycat readme.txt"
   ]
  },
  {
   "cell_type": "code",
   "execution_count": 142,
   "metadata": {},
   "outputs": [],
   "source": [
    "!echo 'hello xichen'>>readme.txt"
   ]
  },
  {
   "cell_type": "code",
   "execution_count": 154,
   "metadata": {},
   "outputs": [],
   "source": [
    "pycat readme.txt"
   ]
  },
  {
   "cell_type": "code",
   "execution_count": 145,
   "metadata": {},
   "outputs": [],
   "source": [
    "!git add -A"
   ]
  },
  {
   "cell_type": "code",
   "execution_count": 159,
   "metadata": {},
   "outputs": [],
   "source": [
    "!echo '戴妍至'>readme.txt"
   ]
  },
  {
   "cell_type": "code",
   "execution_count": 163,
   "metadata": {},
   "outputs": [],
   "source": [
    "pycat readme.txt"
   ]
  },
  {
   "cell_type": "code",
   "execution_count": 162,
   "metadata": {},
   "outputs": [],
   "source": [
    "!git checkout readme.txt"
   ]
  },
  {
   "cell_type": "code",
   "execution_count": 164,
   "metadata": {},
   "outputs": [],
   "source": [
    "!echo \"I love you!\">>newfile.txt"
   ]
  },
  {
   "cell_type": "code",
   "execution_count": 165,
   "metadata": {},
   "outputs": [],
   "source": [
    "pycat newfile.txt"
   ]
  },
  {
   "cell_type": "code",
   "execution_count": 168,
   "metadata": {},
   "outputs": [
    {
     "name": "stdout",
     "output_type": "stream",
     "text": [
      "Git-Tutorial-By-liaoxuefeng  newfile.txt  readme.txt  Untitled.ipynb\r\n"
     ]
    }
   ],
   "source": [
    "!ls"
   ]
  },
  {
   "cell_type": "code",
   "execution_count": 169,
   "metadata": {},
   "outputs": [],
   "source": [
    "!git add -A"
   ]
  },
  {
   "cell_type": "code",
   "execution_count": 170,
   "metadata": {},
   "outputs": [
    {
     "name": "stdout",
     "output_type": "stream",
     "text": [
      "[master ee13380] add a newfile\r\n",
      " 5 files changed, 593 insertions(+)\r\n",
      " create mode 100644 .ipynb_checkpoints/Untitled-checkpoint.ipynb\r\n",
      " create mode 160000 Git-Tutorial-By-liaoxuefeng\r\n",
      " create mode 100644 Untitled.ipynb\r\n",
      " create mode 100644 newfile.txt\r\n"
     ]
    }
   ],
   "source": [
    "!git commit -m\"add a newfile\""
   ]
  },
  {
   "cell_type": "code",
   "execution_count": 172,
   "metadata": {},
   "outputs": [
    {
     "name": "stdout",
     "output_type": "stream",
     "text": [
      "\u001b[33mcommit ee13380d5c3f59cd5f2cb6c43a753b5f4222239b\u001b[m\r\n",
      "Author: Shawn <18829354118@163.com>\r\n",
      "Date:   Mon Apr 16 16:56:35 2018 +0800\r\n",
      "\r\n",
      "    add a newfile\r\n",
      "\r\n",
      "\u001b[33mcommit 9617b524fd8e3326b9c81ffa40a8275d7f34d4b4\u001b[m\r\n",
      "Author: Shawn <18829354118@163.com>\r\n",
      "Date:   Mon Apr 16 16:27:10 2018 +0800\r\n",
      "\r\n",
      "    hello Beijng\r\n",
      "\r\n",
      "\u001b[33mcommit 29045c354620fa39a13c053c42ced6ba3cf0e77a\u001b[m\r\n",
      "Author: Shawn <18829354118@163.com>\r\n",
      "Date:   Mon Apr 16 16:11:10 2018 +0800\r\n",
      "\r\n",
      "    hello China\r\n",
      "\r\n",
      "\u001b[33mcommit d25e05ebfd3bf7a11bf5bb942a5d85dbb314c0f1\u001b[m\r\n",
      "Author: Shawn <18829354118@163.com>\r\n",
      "Date:   Sun Apr 15 21:36:24 2018 +0800\r\n",
      "\r\n",
      "    add readme.txt\r\n"
     ]
    }
   ],
   "source": [
    "!git log"
   ]
  },
  {
   "cell_type": "code",
   "execution_count": 173,
   "metadata": {},
   "outputs": [],
   "source": [
    "!gitk"
   ]
  },
  {
   "cell_type": "code",
   "execution_count": 174,
   "metadata": {},
   "outputs": [],
   "source": [
    "pycat newfile.txt"
   ]
  },
  {
   "cell_type": "code",
   "execution_count": 175,
   "metadata": {},
   "outputs": [
    {
     "name": "stdout",
     "output_type": "stream",
     "text": [
      "rm 'newfile.txt'\r\n"
     ]
    }
   ],
   "source": [
    "!git rm newfile.txt"
   ]
  },
  {
   "cell_type": "code",
   "execution_count": 176,
   "metadata": {},
   "outputs": [
    {
     "name": "stdout",
     "output_type": "stream",
     "text": [
      "[master 78325e3] delete newfile\r\n",
      " 1 file changed, 1 deletion(-)\r\n",
      " delete mode 100644 newfile.txt\r\n"
     ]
    }
   ],
   "source": [
    "!git commit -m'delete newfile'"
   ]
  },
  {
   "cell_type": "code",
   "execution_count": 178,
   "metadata": {},
   "outputs": [],
   "source": [
    "!gitk --all"
   ]
  },
  {
   "cell_type": "code",
   "execution_count": 185,
   "metadata": {},
   "outputs": [],
   "source": [
    "!echo \"Hello TianAnMen\">>readme.txt"
   ]
  },
  {
   "cell_type": "code",
   "execution_count": 180,
   "metadata": {},
   "outputs": [
    {
     "name": "stdout",
     "output_type": "stream",
     "text": [
      "\u001b[1mdiff --git a/readme.txt b/readme.txt\u001b[m\r\n",
      "\u001b[1mindex f2ceff0..bda092d 100644\u001b[m\r\n",
      "\u001b[1m--- a/readme.txt\u001b[m\r\n",
      "\u001b[1m+++ b/readme.txt\u001b[m\r\n",
      "\u001b[36m@@ -2,3 +2,4 @@\u001b[m \u001b[mhello world\u001b[m\r\n",
      " Hello China\u001b[m\r\n",
      " Hello Beijing\u001b[m\r\n",
      " hello xichen\u001b[m\r\n",
      "\u001b[32m+\u001b[m\u001b[32mHello TianAnMen\u001b[m\r\n"
     ]
    }
   ],
   "source": [
    "!git diff readme.txt"
   ]
  },
  {
   "cell_type": "code",
   "execution_count": 181,
   "metadata": {},
   "outputs": [],
   "source": [
    "!git add -A"
   ]
  },
  {
   "cell_type": "code",
   "execution_count": 182,
   "metadata": {},
   "outputs": [
    {
     "name": "stdout",
     "output_type": "stream",
     "text": [
      "\u001b[1mdiff --git a/Untitled.ipynb b/Untitled.ipynb\u001b[m\r\n",
      "\u001b[1mindex 106f9d9..e38926a 100644\u001b[m\r\n",
      "\u001b[1m--- a/Untitled.ipynb\u001b[m\r\n",
      "\u001b[1m+++ b/Untitled.ipynb\u001b[m\r\n",
      "\u001b[36m@@ -353,12 +353,203 @@\u001b[m\r\n",
      "   },\u001b[m\r\n",
      "   {\u001b[m\r\n",
      "    \"cell_type\": \"code\",\u001b[m\r\n",
      "\u001b[31m-   \"execution_count\": null,\u001b[m\r\n",
      "\u001b[32m+\u001b[m\u001b[32m   \"execution_count\": 165,\u001b[m\r\n",
      "\u001b[32m+\u001b[m\u001b[32m   \"metadata\": {},\u001b[m\r\n",
      "\u001b[32m+\u001b[m\u001b[32m   \"outputs\": [],\u001b[m\r\n",
      "\u001b[32m+\u001b[m\u001b[32m   \"source\": [\u001b[m\r\n",
      "\u001b[32m+\u001b[m\u001b[32m    \"pycat newfile.txt\"\u001b[m\r\n",
      "\u001b[32m+\u001b[m\u001b[32m   ]\u001b[m\r\n",
      "\u001b[32m+\u001b[m\u001b[32m  },\u001b[m\r\n",
      "\u001b[32m+\u001b[m\u001b[32m  {\u001b[m\r\n",
      "\u001b[32m+\u001b[m\u001b[32m   \"cell_type\": \"code\",\u001b[m\r\n",
      "\u001b[32m+\u001b[m\u001b[32m   \"execution_count\": 168,\u001b[m\r\n",
      "\u001b[32m+\u001b[m\u001b[32m   \"metadata\": {},\u001b[m\r\n",
      "\u001b[32m+\u001b[m\u001b[32m   \"outputs\": [\u001b[m\r\n",
      "\u001b[32m+\u001b[m\u001b[32m    {\u001b[m\r\n",
      "\u001b[32m+\u001b[m\u001b[32m     \"name\": \"stdout\",\u001b[m\r\n",
      "\u001b[32m+\u001b[m\u001b[32m     \"output_type\": \"stream\",\u001b[m\r\n",
      "\u001b[32m+\u001b[m\u001b[32m     \"text\": [\u001b[m\r\n",
      "\u001b[32m+\u001b[m\u001b[32m      \"Git-Tutorial-By-liaoxuefeng  newfile.txt  readme.txt  Untitled.ipynb\\r\\n\"\u001b[m\r\n",
      "\u001b[32m+\u001b[m\u001b[32m     ]\u001b[m\r\n",
      "\u001b[32m+\u001b[m\u001b[32m    }\u001b[m\r\n",
      "\u001b[32m+\u001b[m\u001b[32m   ],\u001b[m\r\n",
      "\u001b[32m+\u001b[m\u001b[32m   \"source\": [\u001b[m\r\n",
      "\u001b[32m+\u001b[m\u001b[32m    \"!ls\"\u001b[m\r\n",
      "\u001b[32m+\u001b[m\u001b[32m   ]\u001b[m\r\n",
      "\u001b[32m+\u001b[m\u001b[32m  },\u001b[m\r\n",
      "\u001b[32m+\u001b[m\u001b[32m  {\u001b[m\r\n",
      "\u001b[32m+\u001b[m\u001b[32m   \"cell_type\": \"code\",\u001b[m\r\n",
      "\u001b[32m+\u001b[m\u001b[32m   \"execution_count\": 169,\u001b[m\r\n",
      "\u001b[32m+\u001b[m\u001b[32m   \"metadata\": {},\u001b[m\r\n",
      "\u001b[32m+\u001b[m\u001b[32m   \"outputs\": [],\u001b[m\r\n",
      "\u001b[32m+\u001b[m\u001b[32m   \"source\": [\u001b[m\r\n",
      "\u001b[32m+\u001b[m\u001b[32m    \"!git add -A\"\u001b[m\r\n",
      "\u001b[32m+\u001b[m\u001b[32m   ]\u001b[m\r\n",
      "\u001b[32m+\u001b[m\u001b[32m  },\u001b[m\r\n",
      "\u001b[32m+\u001b[m\u001b[32m  {\u001b[m\r\n",
      "\u001b[32m+\u001b[m\u001b[32m   \"cell_type\": \"code\",\u001b[m\r\n",
      "\u001b[32m+\u001b[m\u001b[32m   \"execution_count\": 170,\u001b[m\r\n",
      "\u001b[32m+\u001b[m\u001b[32m   \"metadata\": {},\u001b[m\r\n",
      "\u001b[32m+\u001b[m\u001b[32m   \"outputs\": [\u001b[m\r\n",
      "\u001b[32m+\u001b[m\u001b[32m    {\u001b[m\r\n",
      "\u001b[32m+\u001b[m\u001b[32m     \"name\": \"stdout\",\u001b[m\r\n",
      "\u001b[32m+\u001b[m\u001b[32m     \"output_type\": \"stream\",\u001b[m\r\n",
      "\u001b[32m+\u001b[m\u001b[32m     \"text\": [\u001b[m\r\n",
      "\u001b[32m+\u001b[m\u001b[32m      \"[master ee13380] add a newfile\\r\\n\",\u001b[m\r\n",
      "\u001b[32m+\u001b[m\u001b[32m      \" 5 files changed, 593 insertions(+)\\r\\n\",\u001b[m\r\n",
      "\u001b[32m+\u001b[m\u001b[32m      \" create mode 100644 .ipynb_checkpoints/Untitled-checkpoint.ipynb\\r\\n\",\u001b[m\r\n",
      "\u001b[32m+\u001b[m\u001b[32m      \" create mode 160000 Git-Tutorial-By-liaoxuefeng\\r\\n\",\u001b[m\r\n",
      "\u001b[32m+\u001b[m\u001b[32m      \" create mode 100644 Untitled.ipynb\\r\\n\",\u001b[m\r\n",
      "\u001b[32m+\u001b[m\u001b[32m      \" create mode 100644 newfile.txt\\r\\n\"\u001b[m\r\n",
      "\u001b[32m+\u001b[m\u001b[32m     ]\u001b[m\r\n",
      "\u001b[32m+\u001b[m\u001b[32m    }\u001b[m\r\n",
      "\u001b[32m+\u001b[m\u001b[32m   ],\u001b[m\r\n",
      "\u001b[32m+\u001b[m\u001b[32m   \"source\": [\u001b[m\r\n",
      "\u001b[32m+\u001b[m\u001b[32m    \"!git commit -m\\\"add a newfile\\\"\"\u001b[m\r\n",
      "\u001b[32m+\u001b[m\u001b[32m   ]\u001b[m\r\n",
      "\u001b[32m+\u001b[m\u001b[32m  },\u001b[m\r\n",
      "\u001b[32m+\u001b[m\u001b[32m  {\u001b[m\r\n",
      "\u001b[32m+\u001b[m\u001b[32m   \"cell_type\": \"code\",\u001b[m\r\n",
      "\u001b[32m+\u001b[m\u001b[32m   \"execution_count\": 172,\u001b[m\r\n",
      "\u001b[32m+\u001b[m\u001b[32m   \"metadata\": {},\u001b[m\r\n",
      "\u001b[32m+\u001b[m\u001b[32m   \"outputs\": [\u001b[m\r\n",
      "\u001b[32m+\u001b[m\u001b[32m    {\u001b[m\r\n",
      "\u001b[32m+\u001b[m\u001b[32m     \"name\": \"stdout\",\u001b[m\r\n",
      "\u001b[32m+\u001b[m\u001b[32m     \"output_type\": \"stream\",\u001b[m\r\n",
      "\u001b[32m+\u001b[m\u001b[32m     \"text\": [\u001b[m\r\n",
      "\u001b[32m+\u001b[m\u001b[32m      \"\\u001b[33mcommit ee13380d5c3f59cd5f2cb6c43a753b5f4222239b\\u001b[m\\r\\n\",\u001b[m\r\n",
      "\u001b[32m+\u001b[m\u001b[32m      \"Author: Shawn <18829354118@163.com>\\r\\n\",\u001b[m\r\n",
      "\u001b[32m+\u001b[m\u001b[32m      \"Date:   Mon Apr 16 16:56:35 2018 +0800\\r\\n\",\u001b[m\r\n",
      "\u001b[32m+\u001b[m\u001b[32m      \"\\r\\n\",\u001b[m\r\n",
      "\u001b[32m+\u001b[m\u001b[32m      \"    add a newfile\\r\\n\",\u001b[m\r\n",
      "\u001b[32m+\u001b[m\u001b[32m      \"\\r\\n\",\u001b[m\r\n",
      "\u001b[32m+\u001b[m\u001b[32m      \"\\u001b[33mcommit 9617b524fd8e3326b9c81ffa40a8275d7f34d4b4\\u001b[m\\r\\n\",\u001b[m\r\n",
      "\u001b[32m+\u001b[m\u001b[32m      \"Author: Shawn <18829354118@163.com>\\r\\n\",\u001b[m\r\n",
      "\u001b[32m+\u001b[m\u001b[32m      \"Date:   Mon Apr 16 16:27:10 2018 +0800\\r\\n\",\u001b[m\r\n",
      "\u001b[32m+\u001b[m\u001b[32m      \"\\r\\n\",\u001b[m\r\n",
      "\u001b[32m+\u001b[m\u001b[32m      \"    hello Beijng\\r\\n\",\u001b[m\r\n",
      "\u001b[32m+\u001b[m\u001b[32m      \"\\r\\n\",\u001b[m\r\n",
      "\u001b[32m+\u001b[m\u001b[32m      \"\\u001b[33mcommit 29045c354620fa39a13c053c42ced6ba3cf0e77a\\u001b[m\\r\\n\",\u001b[m\r\n",
      "\u001b[32m+\u001b[m\u001b[32m      \"Author: Shawn <18829354118@163.com>\\r\\n\",\u001b[m\r\n",
      "\u001b[32m+\u001b[m\u001b[32m      \"Date:   Mon Apr 16 16:11:10 2018 +0800\\r\\n\",\u001b[m\r\n",
      "\u001b[32m+\u001b[m\u001b[32m      \"\\r\\n\",\u001b[m\r\n",
      "\u001b[32m+\u001b[m\u001b[32m      \"    hello China\\r\\n\",\u001b[m\r\n",
      "\u001b[32m+\u001b[m\u001b[32m      \"\\r\\n\",\u001b[m\r\n",
      "\u001b[32m+\u001b[m\u001b[32m      \"\\u001b[33mcommit d25e05ebfd3bf7a11bf5bb942a5d85dbb314c0f1\\u001b[m\\r\\n\",\u001b[m\r\n",
      "\u001b[32m+\u001b[m\u001b[32m      \"Author: Shawn <18829354118@163.com>\\r\\n\",\u001b[m\r\n",
      "\u001b[32m+\u001b[m\u001b[32m      \"Date:   Sun Apr 15 21:36:24 2018 +0800\\r\\n\",\u001b[m\r\n",
      "\u001b[32m+\u001b[m\u001b[32m      \"\\r\\n\",\u001b[m\r\n",
      "\u001b[32m+\u001b[m\u001b[32m      \"    add readme.txt\\r\\n\"\u001b[m\r\n",
      "\u001b[32m+\u001b[m\u001b[32m     ]\u001b[m\r\n",
      "\u001b[32m+\u001b[m\u001b[32m    }\u001b[m\r\n",
      "\u001b[32m+\u001b[m\u001b[32m   ],\u001b[m\r\n",
      "\u001b[32m+\u001b[m\u001b[32m   \"source\": [\u001b[m\r\n",
      "\u001b[32m+\u001b[m\u001b[32m    \"!git log\"\u001b[m\r\n",
      "\u001b[32m+\u001b[m\u001b[32m   ]\u001b[m\r\n",
      "\u001b[32m+\u001b[m\u001b[32m  },\u001b[m\r\n",
      "\u001b[32m+\u001b[m\u001b[32m  {\u001b[m\r\n",
      "\u001b[32m+\u001b[m\u001b[32m   \"cell_type\": \"code\",\u001b[m\r\n",
      "\u001b[32m+\u001b[m\u001b[32m   \"execution_count\": 173,\u001b[m\r\n",
      "\u001b[32m+\u001b[m\u001b[32m   \"metadata\": {},\u001b[m\r\n",
      "\u001b[32m+\u001b[m\u001b[32m   \"outputs\": [],\u001b[m\r\n",
      "\u001b[32m+\u001b[m\u001b[32m   \"source\": [\u001b[m\r\n",
      "\u001b[32m+\u001b[m\u001b[32m    \"!gitk\"\u001b[m\r\n",
      "\u001b[32m+\u001b[m\u001b[32m   ]\u001b[m\r\n",
      "\u001b[32m+\u001b[m\u001b[32m  },\u001b[m\r\n",
      "\u001b[32m+\u001b[m\u001b[32m  {\u001b[m\r\n",
      "\u001b[32m+\u001b[m\u001b[32m   \"cell_type\": \"code\",\u001b[m\r\n",
      "\u001b[32m+\u001b[m\u001b[32m   \"execution_count\": 174,\u001b[m\r\n",
      "\u001b[32m+\u001b[m\u001b[32m   \"metadata\": {},\u001b[m\r\n",
      "\u001b[32m+\u001b[m\u001b[32m   \"outputs\": [],\u001b[m\r\n",
      "\u001b[32m+\u001b[m\u001b[32m   \"source\": [\u001b[m\r\n",
      "\u001b[32m+\u001b[m\u001b[32m    \"pycat newfile.txt\"\u001b[m\r\n",
      "\u001b[32m+\u001b[m\u001b[32m   ]\u001b[m\r\n",
      "\u001b[32m+\u001b[m\u001b[32m  },\u001b[m\r\n",
      "\u001b[32m+\u001b[m\u001b[32m  {\u001b[m\r\n",
      "\u001b[32m+\u001b[m\u001b[32m   \"cell_type\": \"code\",\u001b[m\r\n",
      "\u001b[32m+\u001b[m\u001b[32m   \"execution_count\": 175,\u001b[m\r\n",
      "\u001b[32m+\u001b[m\u001b[32m   \"metadata\": {},\u001b[m\r\n",
      "\u001b[32m+\u001b[m\u001b[32m   \"outputs\": [\u001b[m\r\n",
      "\u001b[32m+\u001b[m\u001b[32m    {\u001b[m\r\n",
      "\u001b[32m+\u001b[m\u001b[32m     \"name\": \"stdout\",\u001b[m\r\n",
      "\u001b[32m+\u001b[m\u001b[32m     \"output_type\": \"stream\",\u001b[m\r\n",
      "\u001b[32m+\u001b[m\u001b[32m     \"text\": [\u001b[m\r\n",
      "\u001b[32m+\u001b[m\u001b[32m      \"rm 'newfile.txt'\\r\\n\"\u001b[m\r\n",
      "\u001b[32m+\u001b[m\u001b[32m     ]\u001b[m\r\n",
      "\u001b[32m+\u001b[m\u001b[32m    }\u001b[m\r\n",
      "\u001b[32m+\u001b[m\u001b[32m   ],\u001b[m\r\n",
      "\u001b[32m+\u001b[m\u001b[32m   \"source\": [\u001b[m\r\n",
      "\u001b[32m+\u001b[m\u001b[32m    \"!git rm newfile.txt\"\u001b[m\r\n",
      "\u001b[32m+\u001b[m\u001b[32m   ]\u001b[m\r\n",
      "\u001b[32m+\u001b[m\u001b[32m  },\u001b[m\r\n",
      "\u001b[32m+\u001b[m\u001b[32m  {\u001b[m\r\n",
      "\u001b[32m+\u001b[m\u001b[32m   \"cell_type\": \"code\",\u001b[m\r\n",
      "\u001b[32m+\u001b[m\u001b[32m   \"execution_count\": 176,\u001b[m\r\n",
      "\u001b[32m+\u001b[m\u001b[32m   \"metadata\": {},\u001b[m\r\n",
      "\u001b[32m+\u001b[m\u001b[32m   \"outputs\": [\u001b[m\r\n",
      "\u001b[32m+\u001b[m\u001b[32m    {\u001b[m\r\n",
      "\u001b[32m+\u001b[m\u001b[32m     \"name\": \"stdout\",\u001b[m\r\n",
      "\u001b[32m+\u001b[m\u001b[32m     \"output_type\": \"stream\",\u001b[m\r\n",
      "\u001b[32m+\u001b[m\u001b[32m     \"text\": [\u001b[m\r\n",
      "\u001b[32m+\u001b[m\u001b[32m      \"[master 78325e3] delete newfile\\r\\n\",\u001b[m\r\n",
      "\u001b[32m+\u001b[m\u001b[32m      \" 1 file changed, 1 deletion(-)\\r\\n\",\u001b[m\r\n",
      "\u001b[32m+\u001b[m\u001b[32m      \" delete mode 100644 newfile.txt\\r\\n\"\u001b[m\r\n",
      "\u001b[32m+\u001b[m\u001b[32m     ]\u001b[m\r\n",
      "\u001b[32m+\u001b[m\u001b[32m    }\u001b[m\r\n",
      "\u001b[32m+\u001b[m\u001b[32m   ],\u001b[m\r\n",
      "\u001b[32m+\u001b[m\u001b[32m   \"source\": [\u001b[m\r\n",
      "\u001b[32m+\u001b[m\u001b[32m    \"!git commit -m'delete newfile'\"\u001b[m\r\n",
      "\u001b[32m+\u001b[m\u001b[32m   ]\u001b[m\r\n",
      "\u001b[32m+\u001b[m\u001b[32m  },\u001b[m\r\n",
      "\u001b[32m+\u001b[m\u001b[32m  {\u001b[m\r\n",
      "\u001b[32m+\u001b[m\u001b[32m   \"cell_type\": \"code\",\u001b[m\r\n",
      "\u001b[32m+\u001b[m\u001b[32m   \"execution_count\": 178,\u001b[m\r\n",
      "    \"metadata\": {},\u001b[m\r\n",
      "    \"outputs\": [],\u001b[m\r\n",
      "    \"source\": [\u001b[m\r\n",
      "\u001b[31m-    \"pycat newfile.\"\u001b[m\r\n",
      "\u001b[32m+\u001b[m\u001b[32m    \"!gitk --all\"\u001b[m\r\n",
      "    ]\u001b[m\r\n",
      "\u001b[32m+\u001b[m\u001b[32m  },\u001b[m\r\n",
      "\u001b[32m+\u001b[m\u001b[32m  {\u001b[m\r\n",
      "\u001b[32m+\u001b[m\u001b[32m   \"cell_type\": \"code\",\u001b[m\r\n",
      "\u001b[32m+\u001b[m\u001b[32m   \"execution_count\": 179,\u001b[m\r\n",
      "\u001b[32m+\u001b[m\u001b[32m   \"metadata\": {},\u001b[m\r\n",
      "\u001b[32m+\u001b[m\u001b[32m   \"outputs\": [],\u001b[m\r\n",
      "\u001b[32m+\u001b[m\u001b[32m   \"source\": [\u001b[m\r\n",
      "\u001b[32m+\u001b[m\u001b[32m    \"!echo \\\"Hello TianAnMen\\\">>readme.txt\"\u001b[m\r\n",
      "\u001b[32m+\u001b[m\u001b[32m   ]\u001b[m\r\n",
      "\u001b[32m+\u001b[m\u001b[32m  },\u001b[m\r\n",
      "\u001b[32m+\u001b[m\u001b[32m  {\u001b[m\r\n",
      "\u001b[32m+\u001b[m\u001b[32m   \"cell_type\": \"code\",\u001b[m\r\n",
      "\u001b[32m+\u001b[m\u001b[32m   \"execution_count\": 180,\u001b[m\r\n",
      "\u001b[32m+\u001b[m\u001b[32m   \"metadata\": {},\u001b[m\r\n",
      "\u001b[32m+\u001b[m\u001b[32m   \"outputs\": [\u001b[m\r\n",
      "\u001b[32m+\u001b[m\u001b[32m    {\u001b[m\r\n",
      "\u001b[32m+\u001b[m\u001b[32m     \"name\": \"stdout\",\u001b[m\r\n",
      "\u001b[32m+\u001b[m\u001b[32m     \"output_type\": \"stream\",\u001b[m\r\n",
      "\u001b[32m+\u001b[m\u001b[32m     \"text\": [\u001b[m\r\n",
      "\u001b[32m+\u001b[m\u001b[32m      \"\\u001b[1mdiff --git a/readme.txt b/readme.txt\\u001b[m\\r\\n\",\u001b[m\r\n",
      "\u001b[32m+\u001b[m\u001b[32m      \"\\u001b[1mindex f2ceff0..bda092d 100644\\u001b[m\\r\\n\",\u001b[m\r\n",
      "\u001b[32m+\u001b[m\u001b[32m      \"\\u001b[1m--- a/readme.txt\\u001b[m\\r\\n\",\u001b[m\r\n",
      "\u001b[32m+\u001b[m\u001b[32m      \"\\u001b[1m+++ b/readme.txt\\u001b[m\\r\\n\",\u001b[m\r\n",
      "\u001b[32m+\u001b[m\u001b[32m      \"\\u001b[36m@@ -2,3 +2,4 @@\\u001b[m \\u001b[mhello world\\u001b[m\\r\\n\",\u001b[m\r\n",
      "\u001b[32m+\u001b[m\u001b[32m      \" Hello China\\u001b[m\\r\\n\",\u001b[m\r\n",
      "\u001b[32m+\u001b[m\u001b[32m      \" Hello Beijing\\u001b[m\\r\\n\",\u001b[m\r\n",
      "\u001b[32m+\u001b[m\u001b[32m      \" hello xichen\\u001b[m\\r\\n\",\u001b[m\r\n",
      "\u001b[32m+\u001b[m\u001b[32m      \"\\u001b[32m+\\u001b[m\\u001b[32mHello TianAnMen\\u001b[m\\r\\n\"\u001b[m\r\n",
      "\u001b[32m+\u001b[m\u001b[32m     ]\u001b[m\r\n",
      "\u001b[32m+\u001b[m\u001b[32m    }\u001b[m\r\n",
      "\u001b[32m+\u001b[m\u001b[32m   ],\u001b[m\r\n",
      "\u001b[32m+\u001b[m\u001b[32m   \"source\": [\u001b[m\r\n",
      "\u001b[32m+\u001b[m\u001b[32m    \"!git diff readme.txt\"\u001b[m\r\n",
      "\u001b[32m+\u001b[m\u001b[32m   ]\u001b[m\r\n",
      "\u001b[32m+\u001b[m\u001b[32m  },\u001b[m\r\n",
      "\u001b[32m+\u001b[m\u001b[32m  {\u001b[m\r\n",
      "\u001b[32m+\u001b[m\u001b[32m   \"cell_type\": \"code\",\u001b[m\r\n",
      "\u001b[32m+\u001b[m\u001b[32m   \"execution_count\": null,\u001b[m\r\n",
      "\u001b[32m+\u001b[m\u001b[32m   \"metadata\": {},\u001b[m\r\n",
      "\u001b[32m+\u001b[m\u001b[32m   \"outputs\": [],\u001b[m\r\n",
      "\u001b[32m+\u001b[m\u001b[32m   \"source\": []\u001b[m\r\n",
      "   }\u001b[m\r\n",
      "  ],\u001b[m\r\n",
      "  \"metadata\": {\u001b[m\r\n",
      "\u001b[1mdiff --git a/readme.txt b/readme.txt\u001b[m\r\n",
      "\u001b[1mindex f2ceff0..bda092d 100644\u001b[m\r\n",
      "\u001b[1m--- a/readme.txt\u001b[m\r\n",
      "\u001b[1m+++ b/readme.txt\u001b[m\r\n",
      "\u001b[36m@@ -2,3 +2,4 @@\u001b[m \u001b[mhello world\u001b[m\r\n",
      " Hello China\u001b[m\r\n",
      " Hello Beijing\u001b[m\r\n",
      " hello xichen\u001b[m\r\n",
      "\u001b[32m+\u001b[m\u001b[32mHello TianAnMen\u001b[m\r\n"
     ]
    }
   ],
   "source": [
    "!git diff HEAD"
   ]
  },
  {
   "cell_type": "code",
   "execution_count": 186,
   "metadata": {},
   "outputs": [
    {
     "name": "stdout",
     "output_type": "stream",
     "text": [
      "\u001b[1mdiff --git a/readme.txt b/readme.txt\u001b[m\r\n",
      "\u001b[1mindex bda092d..38a290f 100644\u001b[m\r\n",
      "\u001b[1m--- a/readme.txt\u001b[m\r\n",
      "\u001b[1m+++ b/readme.txt\u001b[m\r\n",
      "\u001b[36m@@ -3,3 +3,4 @@\u001b[m \u001b[mHello China\u001b[m\r\n",
      " Hello Beijing\u001b[m\r\n",
      " hello xichen\u001b[m\r\n",
      " Hello TianAnMen\u001b[m\r\n",
      "\u001b[32m+\u001b[m\u001b[32mHello TianAnMen\u001b[m\r\n"
     ]
    }
   ],
   "source": [
    "!git diff readme.txt"
   ]
  },
  {
   "cell_type": "code",
   "execution_count": 187,
   "metadata": {},
   "outputs": [],
   "source": [
    "!git checkout readme.txt"
   ]
  },
  {
   "cell_type": "code",
   "execution_count": 188,
   "metadata": {},
   "outputs": [],
   "source": [
    "pycat readme.txt"
   ]
  },
  {
   "cell_type": "code",
   "execution_count": 189,
   "metadata": {},
   "outputs": [
    {
     "name": "stdout",
     "output_type": "stream",
     "text": [
      "\u001b[33m78325e3\u001b[m HEAD@{0}: commit: delete newfile\r\n",
      "\u001b[33mee13380\u001b[m HEAD@{1}: commit: add a newfile\r\n",
      "\u001b[33m9617b52\u001b[m HEAD@{2}: reset: moving to 9617b52\r\n",
      "\u001b[33m29045c3\u001b[m HEAD@{3}: reset: moving to 29045c3\r\n",
      "\u001b[33m9617b52\u001b[m HEAD@{4}: commit: hello Beijng\r\n",
      "\u001b[33m29045c3\u001b[m HEAD@{5}: reset: moving to HEAD^\r\n",
      "\u001b[33m2bf576c\u001b[m HEAD@{6}: commit: hello Beijng\r\n",
      "\u001b[33m29045c3\u001b[m HEAD@{7}: reset: moving to HEAD^\r\n",
      "\u001b[33m5997a43\u001b[m HEAD@{8}: commit: hello Beijing\r\n",
      "\u001b[33m29045c3\u001b[m HEAD@{9}: reset: moving to HEAD^\r\n",
      "\u001b[33m53fc133\u001b[m HEAD@{10}: commit: hello Beijing\r\n",
      "\u001b[33m29045c3\u001b[m HEAD@{11}: commit: hello China\r\n",
      "\u001b[33md25e05e\u001b[m HEAD@{12}: reset: moving to HEAD^\r\n",
      "\u001b[33md7e18e8\u001b[m HEAD@{13}: commit: hello\r\n",
      "\u001b[33md25e05e\u001b[m HEAD@{14}: reset: moving to HEAD^\r\n",
      "\u001b[33m99dff75\u001b[m HEAD@{15}: commit: hello\r\n",
      "\u001b[33md25e05e\u001b[m HEAD@{16}: reset: moving to HEAD^\r\n",
      "\u001b[33mfef60ab\u001b[m HEAD@{17}: reset: moving to HEAD^\r\n",
      "\u001b[33ma30c539\u001b[m HEAD@{18}: commit: hello Beijng\r\n",
      "\u001b[33mfef60ab\u001b[m HEAD@{19}: reset: moving to HEAD^\r\n",
      "\u001b[33m1cf0faa\u001b[m HEAD@{20}: commit: hello Beijng\r\n",
      "\u001b[33mfef60ab\u001b[m HEAD@{21}: reset: moving to HEAD^\r\n",
      "\u001b[33m713c8c6\u001b[m HEAD@{22}: commit: hello Beijing\r\n",
      "\u001b[33mfef60ab\u001b[m HEAD@{23}: commit: hello China\r\n",
      "\u001b[33md25e05e\u001b[m HEAD@{24}: reset: moving to HEAD^\r\n",
      "\u001b[33meb4ecaa\u001b[m HEAD@{25}: commit: hello Beijing\r\n",
      "\u001b[33md25e05e\u001b[m HEAD@{26}: reset: moving to HEAD^\r\n",
      "\u001b[33m43bfda0\u001b[m HEAD@{27}: reset: moving to HEAD^\r\n",
      "\u001b[33m6acd96c\u001b[m HEAD@{28}: commit: hello Beijing\r\n",
      "\u001b[33m43bfda0\u001b[m HEAD@{29}: commit: hello China\r\n",
      "\u001b[33md25e05e\u001b[m HEAD@{30}: commit (initial): add readme.txt\r\n"
     ]
    }
   ],
   "source": [
    "!git reflog"
   ]
  },
  {
   "cell_type": "code",
   "execution_count": 190,
   "metadata": {},
   "outputs": [
    {
     "name": "stdout",
     "output_type": "stream",
     "text": [
      "\u001b[1mdiff --git a/.ipynb_checkpoints/Untitled-checkpoint.ipynb b/.ipynb_checkpoints/Untitled-checkpoint.ipynb\u001b[m\r\n",
      "\u001b[1mdeleted file mode 100644\u001b[m\r\n",
      "\u001b[1mindex b27fd7a..0000000\u001b[m\r\n",
      "\u001b[1m--- a/.ipynb_checkpoints/Untitled-checkpoint.ipynb\u001b[m\r\n",
      "\u001b[1m+++ /dev/null\u001b[m\r\n",
      "\u001b[36m@@ -1,205 +0,0 @@\u001b[m\r\n",
      "\u001b[31m-{\u001b[m\r\n",
      "\u001b[31m- \"cells\": [\u001b[m\r\n",
      "\u001b[31m-  {\u001b[m\r\n",
      "\u001b[31m-   \"cell_type\": \"code\",\u001b[m\r\n",
      "\u001b[31m-   \"execution_count\": 22,\u001b[m\r\n",
      "\u001b[31m-   \"metadata\": {},\u001b[m\r\n",
      "\u001b[31m-   \"outputs\": [],\u001b[m\r\n",
      "\u001b[31m-   \"source\": [\u001b[m\r\n",
      "\u001b[31m-    \"!gitk\"\u001b[m\r\n",
      "\u001b[31m-   ]\u001b[m\r\n",
      "\u001b[31m-  },\u001b[m\r\n",
      "\u001b[31m-  {\u001b[m\r\n",
      "\u001b[31m-   \"cell_type\": \"code\",\u001b[m\r\n",
      "\u001b[31m-   \"execution_count\": 47,\u001b[m\r\n",
      "\u001b[31m-   \"metadata\": {},\u001b[m\r\n",
      "\u001b[31m-   \"outputs\": [],\u001b[m\r\n",
      "\u001b[31m-   \"source\": [\u001b[m\r\n",
      "\u001b[31m-    \"!echo \\\"Hello China\\\">>readme.txt\"\u001b[m\r\n",
      "\u001b[31m-   ]\u001b[m\r\n",
      "\u001b[31m-  },\u001b[m\r\n",
      "\u001b[31m-  {\u001b[m\r\n",
      "\u001b[31m-   \"cell_type\": \"code\",\u001b[m\r\n",
      "\u001b[31m-   \"execution_count\": 50,\u001b[m\r\n",
      "\u001b[31m-   \"metadata\": {},\u001b[m\r\n",
      "\u001b[31m-   \"outputs\": [],\u001b[m\r\n",
      "\u001b[31m-   \"source\": [\u001b[m\r\n",
      "\u001b[31m-    \"%pycat readme.txt\"\u001b[m\r\n",
      "\u001b[31m-   ]\u001b[m\r\n",
      "\u001b[31m-  },\u001b[m\r\n",
      "\u001b[31m-  {\u001b[m\r\n",
      "\u001b[31m-   \"cell_type\": \"code\",\u001b[m\r\n",
      "\u001b[31m-   \"execution_count\": 14,\u001b[m\r\n",
      "\u001b[31m-   \"metadata\": {},\u001b[m\r\n",
      "\u001b[31m-   \"outputs\": [\u001b[m\r\n",
      "\u001b[31m-    {\u001b[m\r\n",
      "\u001b[31m-     \"name\": \"stdout\",\u001b[m\r\n",
      "\u001b[31m-     \"output_type\": \"stream\",\u001b[m\r\n",
      "\u001b[31m-     \"text\": [\u001b[m\r\n",
      "\u001b[31m-      \"[master 43bfda0] hello China\\r\\n\",\u001b[m\r\n",
      "\u001b[31m-      \" 1 file changed, 3 insertions(+)\\r\\n\"\u001b[m\r\n",
      "\u001b[31m-     ]\u001b[m\r\n",
      "\u001b[31m-    }\u001b[m\r\n",
      "\u001b[31m-   ],\u001b[m\r\n",
      "\u001b[31m-   \"source\": [\u001b[m\r\n",
      "\u001b[31m-    \"!git commit -a -m\\\"hello China\\\"\"\u001b[m\r\n",
      "\u001b[31m-   ]\u001b[m\r\n",
      "\u001b[31m-  },\u001b[m\r\n",
      "\u001b[31m-  {\u001b[m\r\n",
      "\u001b[31m-   \"cell_type\": \"code\",\u001b[m\r\n",
      "\u001b[31m-   \"execution_count\": 49,\u001b[m\r\n",
      "\u001b[31m-   \"metadata\": {},\u001b[m\r\n",
      "\u001b[31m-   \"outputs\": [],\u001b[m\r\n",
      "\u001b[31m-   \"source\": [\u001b[m\r\n",
      "\u001b[31m-    \"!echo \\\"Hello Beijing\\\">>readme.txt\"\u001b[m\r\n",
      "\u001b[31m-   ]\u001b[m\r\n",
      "\u001b[31m-  },\u001b[m\r\n",
      "\u001b[31m-  {\u001b[m\r\n",
      "\u001b[31m-   \"cell_type\": \"code\",\u001b[m\r\n",
      "\u001b[31m-   \"execution_count\": 51,\u001b[m\r\n",
      "\u001b[31m-   \"metadata\": {},\u001b[m\r\n",
      "\u001b[31m-   \"outputs\": [],\u001b[m\r\n",
      "\u001b[31m-   \"source\": [\u001b[m\r\n",
      "\u001b[31m-    \"!git add -A\"\u001b[m\r\n",
      "\u001b[31m-   ]\u001b[m\r\n",
      "\u001b[31m-  },\u001b[m\r\n",
      "\u001b[31m-  {\u001b[m\r\n",
      "\u001b[31m-   \"cell_type\": \"code\",\u001b[m\r\n",
      "\u001b[31m-   \"execution_count\": 52,\u001b[m\r\n",
      "\u001b[31m-   \"metadata\": {},\u001b[m\r\n",
      "\u001b[31m-   \"outputs\": [\u001b[m\r\n",
      "\u001b[31m-    {\u001b[m\r\n",
      "\u001b[31m-     \"name\": \"stdout\",\u001b[m\r\n",
      "\u001b[31m-     \"output_type\": \"stream\",\u001b[m\r\n",
      "\u001b[31m-     \"text\": [\u001b[m\r\n",
      "\u001b[31m-      \"[master eb4ecaa] hello Beijing\\r\\n\",\u001b[m\r\n",
      "\u001b[31m-      \" 4 files changed, 186 insertions(+)\\r\\n\",\u001b[m\r\n",
      "\u001b[31m-      \" create mode 100644 .ipynb_checkpoints/Untitled-checkpoint.ipynb\\r\\n\",\u001b[m\r\n",
      "\u001b[31m-      \" create mode 160000 Git-Tutorial-By-liaoxuefeng\\r\\n\",\u001b[m\r\n",
      "\u001b[31m-      \" create mode 100644 Untitled.ipynb\\r\\n\"\u001b[m\r\n",
      "\u001b[31m-     ]\u001b[m\r\n",
      "\u001b[31m-    }\u001b[m\r\n",
      "\u001b[31m-   ],\u001b[m\r\n",
      "\u001b[31m-   \"source\": [\u001b[m\r\n",
      "\u001b[31m-    \"!git commit -m\\\"hello Beijing\\\"\"\u001b[m\r\n",
      "\u001b[31m-   ]\u001b[m\r\n",
      "\u001b[31m-  },\u001b[m\r\n",
      "\u001b[31m-  {\u001b[m\r\n",
      "\u001b[31m-   \"cell_type\": \"code\",\u001b[m\r\n",
      "\u001b[31m-   \"execution_count\": 24,\u001b[m\r\n",
      "\u001b[31m-   \"metadata\": {},\u001b[m\r\n",
      "\u001b[31m-   \"outputs\": [\u001b[m\r\n",
      "\u001b[31m-    {\u001b[m\r\n",
      "\u001b[31m-     \"name\": \"stdout\",\u001b[m\r\n",
      "\u001b[31m-     \"output_type\": \"stream\",\u001b[m\r\n",
      "\u001b[31m-     \"text\": [\u001b[m\r\n",
      "\u001b[31m-      \"\\u001b[33mcommit 6acd96c77f51f2e3299ce0542feb279dca3665cc\\u001b[m\\r\\n\",\u001b[m\r\n",
      "\u001b[31m-      \"Author: Shawn <18829354118@163.com>\\r\\n\",\u001b[m\r\n",
      "\u001b[31m-      \"Date:   Mon Apr 16 15:31:37 2018 +0800\\r\\n\",\u001b[m\r\n",
      "\u001b[31m-      \"\\r\\n\",\u001b[m\r\n",
      "\u001b[31m-      \"    hello Beijing\\r\\n\",\u001b[m\r\n",
      "\u001b[31m-      \"\\r\\n\",\u001b[m\r\n",
      "\u001b[31m-      \"\\u001b[33mcommit 43bfda0713624c2064213f84177260a4a0734a12\\u001b[m\\r\\n\",\u001b[m\r\n",
      "\u001b[31m-      \"Author: Shawn <18829354118@163.com>\\r\\n\",\u001b[m\r\n",
      "\u001b[31m-      \"Date:   Mon Apr 16 15:26:31 2018 +0800\\r\\n\",\u001b[m\r\n",
      "\u001b[31m-      \"\\r\\n\",\u001b[m\r\n",
      "\u001b[31m-      \"    hello China\\r\\n\",\u001b[m\r\n",
      "\u001b[31m-      \"\\r\\n\",\u001b[m\r\n",
      "\u001b[31m-      \"\\u001b[33mcommit d25e05ebfd3bf7a11bf5bb942a5d85dbb314c0f1\\u001b[m\\r\\n\",\u001b[m\r\n",
      "\u001b[31m-      \"Author: Shawn <18829354118@163.com>\\r\\n\",\u001b[m\r\n",
      "\u001b[31m-      \"Date:   Sun Apr 15 21:36:24 2018 +0800\\r\\n\",\u001b[m\r\n",
      "\u001b[31m-      \"\\r\\n\",\u001b[m\r\n",
      "\u001b[31m-      \"    add readme.txt\\r\\n\"\u001b[m\r\n",
      "\u001b[31m-     ]\u001b[m\r\n",
      "\u001b[31m-    }\u001b[m\r\n",
      "\u001b[31m-   ],\u001b[m\r\n",
      "\u001b[31m-   \"source\": [\u001b[m\r\n",
      "\u001b[31m-    \"!git log\"\u001b[m\r\n",
      "\u001b[31m-   ]\u001b[m\r\n",
      "\u001b[31m-  },\u001b[m\r\n",
      "\u001b[31m-  {\u001b[m\r\n",
      "\u001b[31m-   \"cell_type\": \"code\",\u001b[m\r\n",
      "\u001b[31m-   \"execution_count\": 54,\u001b[m\r\n",
      "\u001b[31m-   \"metadata\": {},\u001b[m\r\n",
      "\u001b[31m-   \"outputs\": [\u001b[m\r\n",
      "\u001b[31m-    {\u001b[m\r\n",
      "\u001b[31m-     \"name\": \"stdout\",\u001b[m\r\n",
      "\u001b[31m-     \"output_type\": \"stream\",\u001b[m\r\n",
      "\u001b[31m-     \"text\": [\u001b[m\r\n",
      "\u001b[31m-      \"warning: unable to rmdir Git-Tutorial-By-liaoxuefeng: 目录非空\\r\\n\",\u001b[m\r\n",
      "\u001b[31m-      \"HEAD 现在位于 d25e05e add readme.txt\\r\\n\"\u001b[m\r\n",
      "\u001b[31m-     ]\u001b[m\r\n",
      "\u001b[31m-    }\u001b[m\r\n",
      "\u001b[31m-   ],\u001b[m\r\n",
      "\u001b[31m-   \"source\": [\u001b[m\r\n",
      "\u001b[31m-    \"!git reset --hard HEAD^\"\u001b[m\r\n",
      "\u001b[31m-   ]\u001b[m\r\n",
      "\u001b[31m-  },\u001b[m\r\n",
      "\u001b[31m-  {\u001b[m\r\n",
      "\u001b[31m-   \"cell_type\": \"code\",\u001b[m\r\n",
      "\u001b[31m-   \"execution_count\": 45,\u001b[m\r\n",
      "\u001b[31m-   \"metadata\": {},\u001b[m\r\n",
      "\u001b[31m-   \"outputs\": [],\u001b[m\r\n",
      "\u001b[31m-   \"source\": [\u001b[m\r\n",
      "\u001b[31m-    \"pycat readme.txt\"\u001b[m\r\n",
      "\u001b[31m-   ]\u001b[m\r\n",
      "\u001b[31m-  },\u001b[m\r\n",
      "\u001b[31m-  {\u001b[m\r\n",
      "\u001b[31m-   \"cell_type\": \"code\",\u001b[m\r\n",
      "\u001b[31m-   \"execution_count\": 53,\u001b[m\r\n",
      "\u001b[31m-   \"metadata\": {\u001b[m\r\n",
      "\u001b[31m-    \"scrolled\": false\u001b[m\r\n",
      "\u001b[31m-   },\u001b[m\r\n",
      "\u001b[31m-   \"outputs\": [\u001b[m\r\n",
      "\u001b[31m-    {\u001b[m\r\n",
      "\u001b[31m-     \"name\": \"stdout\",\u001b[m\r\n",
      "\u001b[31m-     \"output_type\": \"stream\",\u001b[m\r\n",
      "\u001b[31m-     \"text\": [\u001b[m\r\n",
      "\u001b[31m-      \"\\u001b[33mcommit eb4ecaa638f69a02358c73ca9d0df697855dee4e\\u001b[m\\r\\n\",\u001b[m\r\n",
      "\u001b[31m-      \"Author: Shawn <18829354118@163.com>\\r\\n\",\u001b[m\r\n",
      "\u001b[31m-      \"Date:   Mon Apr 16 15:48:15 2018 +0800\\r\\n\",\u001b[m\r\n",
      "\u001b[31m-      \"\\r\\n\",\u001b[m\r\n",
      "\u001b[31m-      \"    hello Beijing\\r\\n\",\u001b[m\r\n",
      "\u001b[31m-      \"\\r\\n\",\u001b[m\r\n",
      "\u001b[31m-      \"\\u001b[33mcommit d25e05ebfd3bf7a11bf5bb942a5d85dbb314c0f1\\u001b[m\\r\\n\",\u001b[m\r\n",
      "\u001b[31m-      \"Author: Shawn <18829354118@163.com>\\r\\n\",\u001b[m\r\n",
      "\u001b[31m-      \"Date:   Sun Apr 15 21:36:24 2018 +0800\\r\\n\",\u001b[m\r\n",
      "\u001b[31m-      \"\\r\\n\",\u001b[m\r\n",
      "\u001b[31m-      \"    add readme.txt\\r\\n\"\u001b[m\r\n",
      "\u001b[31m-     ]\u001b[m\r\n",
      "\u001b[31m-    }\u001b[m\r\n",
      "\u001b[31m-   ],\u001b[m\r\n",
      "\u001b[31m-   \"source\": [\u001b[m\r\n",
      "\u001b[31m-    \"!git log\"\u001b[m\r\n",
      "\u001b[31m-   ]\u001b[m\r\n",
      "\u001b[31m-  },\u001b[m\r\n",
      "\u001b[31m-  {\u001b[m\r\n",
      "\u001b[31m-   \"cell_type\": \"code\",\u001b[m\r\n",
      "\u001b[31m-   \"execution_count\": null,\u001b[m\r\n",
      "\u001b[31m-   \"metadata\": {},\u001b[m\r\n",
      "\u001b[31m-   \"outputs\": [],\u001b[m\r\n",
      "\u001b[31m-   \"source\": []\u001b[m\r\n",
      "\u001b[31m-  }\u001b[m\r\n",
      "\u001b[31m- ],\u001b[m\r\n",
      "\u001b[31m- \"metadata\": {\u001b[m\r\n",
      "\u001b[31m-  \"kernelspec\": {\u001b[m\r\n",
      "\u001b[31m-   \"display_name\": \"Python 3\",\u001b[m\r\n",
      "\u001b[31m-   \"language\": \"python\",\u001b[m\r\n",
      "\u001b[31m-   \"name\": \"python3\"\u001b[m\r\n",
      "\u001b[31m-  },\u001b[m\r\n",
      "\u001b[31m-  \"language_info\": {\u001b[m\r\n",
      "\u001b[31m-   \"codemirror_mode\": {\u001b[m\r\n",
      "\u001b[31m-    \"name\": \"ipython\",\u001b[m\r\n",
      "\u001b[31m-    \"version\": 3\u001b[m\r\n",
      "\u001b[31m-   },\u001b[m\r\n",
      "\u001b[31m-   \"file_extension\": \".py\",\u001b[m\r\n",
      "\u001b[31m-   \"mimetype\": \"text/x-python\",\u001b[m\r\n",
      "\u001b[31m-   \"name\": \"python\",\u001b[m\r\n",
      "\u001b[31m-   \"nbconvert_exporter\": \"python\",\u001b[m\r\n",
      "\u001b[31m-   \"pygments_lexer\": \"ipython3\",\u001b[m\r\n",
      "\u001b[31m-   \"version\": \"3.6.4\"\u001b[m\r\n",
      "\u001b[31m-  }\u001b[m\r\n",
      "\u001b[31m- },\u001b[m\r\n",
      "\u001b[31m- \"nbformat\": 4,\u001b[m\r\n",
      "\u001b[31m- \"nbformat_minor\": 2\u001b[m\r\n",
      "\u001b[31m-}\u001b[m\r\n",
      "\u001b[1mdiff --git a/Git-Tutorial-By-liaoxuefeng b/Git-Tutorial-By-liaoxuefeng\u001b[m\r\n",
      "\u001b[1mdeleted file mode 160000\u001b[m\r\n",
      "\u001b[1mindex 6a0be15..0000000\u001b[m\r\n",
      "\u001b[1m--- a/Git-Tutorial-By-liaoxuefeng\u001b[m\r\n",
      "\u001b[1m+++ /dev/null\u001b[m\r\n",
      "\u001b[36m@@ -1 +0,0 @@\u001b[m\r\n",
      "\u001b[31m-Subproject commit 6a0be157d93482fe5d9633e2543e3475b17e0cee\u001b[m\r\n",
      "\u001b[1mdiff --git a/Untitled.ipynb b/Untitled.ipynb\u001b[m\r\n",
      "\u001b[1mdeleted file mode 100644\u001b[m\r\n",
      "\u001b[1mindex 106f9d9..0000000\u001b[m\r\n",
      "\u001b[1m--- a/Untitled.ipynb\u001b[m\r\n",
      "\u001b[1m+++ /dev/null\u001b[m\r\n",
      "\u001b[36m@@ -1,385 +0,0 @@\u001b[m\r\n",
      "\u001b[31m-{\u001b[m\r\n",
      "\u001b[31m- \"cells\": [\u001b[m\r\n",
      "\u001b[31m-  {\u001b[m\r\n",
      "\u001b[31m-   \"cell_type\": \"code\",\u001b[m\r\n",
      "\u001b[31m-   \"execution_count\": 100,\u001b[m\r\n",
      "\u001b[31m-   \"metadata\": {},\u001b[m\r\n",
      "\u001b[31m-   \"outputs\": [],\u001b[m\r\n",
      "\u001b[31m-   \"source\": [\u001b[m\r\n",
      "\u001b[31m-    \"!gitk\"\u001b[m\r\n",
      "\u001b[31m-   ]\u001b[m\r\n",
      "\u001b[31m-  },\u001b[m\r\n",
      "\u001b[31m-  {\u001b[m\r\n",
      "\u001b[31m-   \"cell_type\": \"code\",\u001b[m\r\n",
      "\u001b[31m-   \"execution_count\": 103,\u001b[m\r\n",
      "\u001b[31m-   \"metadata\": {},\u001b[m\r\n",
      "\u001b[31m-   \"outputs\": [],\u001b[m\r\n",
      "\u001b[31m-   \"source\": [\u001b[m\r\n",
      "\u001b[31m-    \"!echo \\\"Hello China\\\">>readme.txt\"\u001b[m\r\n",
      "\u001b[31m-   ]\u001b[m\r\n",
      "\u001b[31m-  },\u001b[m\r\n",
      "\u001b[31m-  {\u001b[m\r\n",
      "\u001b[31m-   \"cell_type\": \"code\",\u001b[m\r\n",
      "\u001b[31m-   \"execution_count\": 104,\u001b[m\r\n",
      "\u001b[31m-   \"metadata\": {},\u001b[m\r\n",
      "\u001b[31m-   \"outputs\": [],\u001b[m\r\n",
      "\u001b[31m-   \"source\": [\u001b[m\r\n",
      "\u001b[31m-    \"%pycat readme.txt\"\u001b[m\r\n",
      "\u001b[31m-   ]\u001b[m\r\n",
      "\u001b[31m-  },\u001b[m\r\n",
      "\u001b[31m-  {\u001b[m\r\n",
      "\u001b[31m-   \"cell_type\": \"code\",\u001b[m\r\n",
      "\u001b[31m-   \"execution_count\": 105,\u001b[m\r\n",
      "\u001b[31m-   \"metadata\": {},\u001b[m\r\n",
      "\u001b[31m-   \"outputs\": [\u001b[m\r\n",
      "\u001b[31m-    {\u001b[m\r\n",
      "\u001b[31m-     \"name\": \"stdout\",\u001b[m\r\n",
      "\u001b[31m-     \"output_type\": \"stream\",\u001b[m\r\n",
      "\u001b[31m-     \"text\": [\u001b[m\r\n",
      "\u001b[31m-      \"[master 29045c3] hello China\\r\\n\",\u001b[m\r\n",
      "\u001b[31m-      \" 1 file changed, 1 insertion(+)\\r\\n\"\u001b[m\r\n",
      "\u001b[31m-     ]\u001b[m\r\n",
      "\u001b[31m-    }\u001b[m\r\n",
      "\u001b[31m-   ],\u001b[m\r\n",
      "\u001b[31m-   \"source\": [\u001b[m\r\n",
      "\u001b[31m-    \"!git commit -a -m\\\"hello China\\\"\"\u001b[m\r\n",
      "\u001b[31m-   ]\u001b[m\r\n",
      "\u001b[31m-  },\u001b[m\r\n",
      "\u001b[31m-  {\u001b[m\r\n",
      "\u001b[31m-   \"cell_type\": \"code\",\u001b[m\r\n",
      "\u001b[31m-   \"execution_count\": 106,\u001b[m\r\n",
      "\u001b[31m-   \"metadata\": {},\u001b[m\r\n",
      "\u001b[31m-   \"outputs\": [],\u001b[m\r\n",
      "\u001b[31m-   \"source\": [\u001b[m\r\n",
      "\u001b[31m-    \"!echo \\\"Hello Beijing\\\">>readme.txt\"\u001b[m\r\n",
      "\u001b[31m-   ]\u001b[m\r\n",
      "\u001b[31m-  },\u001b[m\r\n",
      "\u001b[31m-  {\u001b[m\r\n",
      "\u001b[31m-   \"cell_type\": \"code\",\u001b[m\r\n",
      "\u001b[31m-   \"execution_count\": 107,\u001b[m\r\n",
      "\u001b[31m-   \"metadata\": {},\u001b[m\r\n",
      "\u001b[31m-   \"outputs\": [],\u001b[m\r\n",
      "\u001b[31m-   \"source\": [\u001b[m\r\n",
      "\u001b[31m-    \"!git add -A\"\u001b[m\r\n",
      "\u001b[31m-   ]\u001b[m\r\n",
      "\u001b[31m-  },\u001b[m\r\n",
      "\u001b[31m-  {\u001b[m\r\n",
      "\u001b[31m-   \"cell_type\": \"code\",\u001b[m\r\n",
      "\u001b[31m-   \"execution_count\": 108,\u001b[m\r\n",
      "\u001b[31m-   \"metadata\": {},\u001b[m\r\n",
      "\u001b[31m-   \"outputs\": [\u001b[m\r\n",
      "\u001b[31m-    {\u001b[m\r\n",
      "\u001b[31m-     \"name\": \"stdout\",\u001b[m\r\n",
      "\u001b[31m-     \"output_type\": \"stream\",\u001b[m\r\n",
      "\u001b[31m-     \"text\": [\u001b[m\r\n",
      "\u001b[31m-      \"[master 53fc133] hello Beijing\\r\\n\",\u001b[m\r\n",
      "\u001b[31m-      \" 4 files changed, 438 insertions(+)\\r\\n\",\u001b[m\r\n",
      "\u001b[31m-      \" create mode 100644 .ipynb_checkpoints/Untitled-checkpoint.ipynb\\r\\n\",\u001b[m\r\n",
      "\u001b[31m-      \" create mode 160000 Git-Tutorial-By-liaoxuefeng\\r\\n\",\u001b[m\r\n",
      "\u001b[31m-      \" create mode 100644 Untitled.ipynb\\r\\n\"\u001b[m\r\n",
      "\u001b[31m-     ]\u001b[m\r\n",
      "\u001b[31m-    }\u001b[m\r\n",
      "\u001b[31m-   ],\u001b[m\r\n",
      "\u001b[31m-   \"source\": [\u001b[m\r\n",
      "\u001b[31m-    \"!git commit -m\\\"hello Beijing\\\"\"\u001b[m\r\n",
      "\u001b[31m-   ]\u001b[m\r\n",
      "\u001b[31m-  },\u001b[m\r\n",
      "\u001b[31m-  {\u001b[m\r\n",
      "\u001b[31m-   \"cell_type\": \"code\",\u001b[m\r\n",
      "\u001b[31m-   \"execution_count\": 109,\u001b[m\r\n",
      "\u001b[31m-   \"metadata\": {},\u001b[m\r\n",
      "\u001b[31m-   \"outputs\": [\u001b[m\r\n",
      "\u001b[31m-    {\u001b[m\r\n",
      "\u001b[31m-     \"name\": \"stdout\",\u001b[m\r\n",
      "\u001b[31m-     \"output_type\": \"stream\",\u001b[m\r\n",
      "\u001b[31m-     \"text\": [\u001b[m\r\n",
      "\u001b[31m-      \"\\u001b[33mcommit 53fc1332b67acca4dd9868e146f80af8cb2d0fca\\u001b[m\\r\\n\",\u001b[m\r\n",
      "\u001b[31m-      \"Author: Shawn <18829354118@163.com>\\r\\n\",\u001b[m\r\n",
      "\u001b[31m-      \"Date:   Mon Apr 16 16:11:13 2018 +0800\\r\\n\",\u001b[m\r\n",
      "\u001b[31m-      \"\\r\\n\",\u001b[m\r\n",
      "\u001b[31m-      \"    hello Beijing\\r\\n\",\u001b[m\r\n",
      "\u001b[31m-      \"\\r\\n\",\u001b[m\r\n",
      "\u001b[31m-      \"\\u001b[33mcommit 29045c354620fa39a13c053c42ced6ba3cf0e77a\\u001b[m\\r\\n\",\u001b[m\r\n",
      "\u001b[31m-      \"Author: Shawn <18829354118@163.com>\\r\\n\",\u001b[m\r\n",
      "\u001b[31m-      \"Date:   Mon Apr 16 16:11:10 2018 +0800\\r\\n\",\u001b[m\r\n",
      "\u001b[31m-      \"\\r\\n\",\u001b[m\r\n",
      "\u001b[31m-      \"    hello China\\r\\n\",\u001b[m\r\n",
      "\u001b[31m-      \"\\r\\n\",\u001b[m\r\n",
      "\u001b[31m-      \"\\u001b[33mcommit d25e05ebfd3bf7a11bf5bb942a5d85dbb314c0f1\\u001b[m\\r\\n\",\u001b[m\r\n",
      "\u001b[31m-      \"Author: Shawn <18829354118@163.com>\\r\\n\",\u001b[m\r\n",
      "\u001b[31m-      \"Date:   Sun Apr 15 21:36:24 2018 +0800\\r\\n\",\u001b[m\r\n",
      "\u001b[31m-      \"\\r\\n\",\u001b[m\r\n",
      "\u001b[31m-      \"    add readme.txt\\r\\n\"\u001b[m\r\n",
      "\u001b[31m-     ]\u001b[m\r\n",
      "\u001b[31m-    }\u001b[m\r\n",
      "\u001b[31m-   ],\u001b[m\r\n",
      "\u001b[31m-   \"source\": [\u001b[m\r\n",
      "\u001b[31m-    \"!git log\"\u001b[m\r\n",
      "\u001b[31m-   ]\u001b[m\r\n",
      "\u001b[31m-  },\u001b[m\r\n",
      "\u001b[31m-  {\u001b[m\r\n",
      "\u001b[31m-   \"cell_type\": \"code\",\u001b[m\r\n",
      "\u001b[31m-   \"execution_count\": 124,\u001b[m\r\n",
      "\u001b[31m-   \"metadata\": {},\u001b[m\r\n",
      "\u001b[31m-   \"outputs\": [\u001b[m\r\n",
      "\u001b[31m-    {\u001b[m\r\n",
      "\u001b[31m-     \"name\": \"stdout\",\u001b[m\r\n",
      "\u001b[31m-     \"output_type\": \"stream\",\u001b[m\r\n",
      "\u001b[31m-     \"text\": [\u001b[m\r\n",
      "\u001b[31m-      \"重置后取消暂存的变更：\\r\\n\",\u001b[m\r\n",
      "\u001b[31m-      \"M\\treadme.txt\\r\\n\"\u001b[m\r\n",
      "\u001b[31m-     ]\u001b[m\r\n",
      "\u001b[31m-    }\u001b[m\r\n",
      "\u001b[31m-   ],\u001b[m\r\n",
      "\u001b[31m-   \"source\": [\u001b[m\r\n",
      "\u001b[31m-    \"!git reset --mixed HEAD^\"\u001b[m\r\n",
      "\u001b[31m-   ]\u001b[m\r\n",
      "\u001b[31m-  },\u001b[m\r\n",
      "\u001b[31m-  {\u001b[m\r\n",
      "\u001b[31m-   \"cell_type\": \"code\",\u001b[m\r\n",
      "\u001b[31m-   \"execution_count\": 131,\u001b[m\r\n",
      "\u001b[31m-   \"metadata\": {},\u001b[m\r\n",
      "\u001b[31m-   \"outputs\": [],\u001b[m\r\n",
      "\u001b[31m-   \"source\": [\u001b[m\r\n",
      "\u001b[31m-    \"pycat readme.txt\"\u001b[m\r\n",
      "\u001b[31m-   ]\u001b[m\r\n",
      "\u001b[31m-  },\u001b[m\r\n",
      "\u001b[31m-  {\u001b[m\r\n",
      "\u001b[31m-   \"cell_type\": \"code\",\u001b[m\r\n",
      "\u001b[31m-   \"execution_count\": 126,\u001b[m\r\n",
      "\u001b[31m-   \"metadata\": {\u001b[m\r\n",
      "\u001b[31m-    \"scrolled\": false\u001b[m\r\n",
      "\u001b[31m-   },\u001b[m\r\n",
      "\u001b[31m-   \"outputs\": [\u001b[m\r\n",
      "\u001b[31m-    {\u001b[m\r\n",
      "\u001b[31m-     \"name\": \"stdout\",\u001b[m\r\n",
      "\u001b[31m-     \"output_type\": \"stream\",\u001b[m\r\n",
      "\u001b[31m-     \"text\": [\u001b[m\r\n",
      "\u001b[31m-      \"\\u001b[33m29045c3\\u001b[m hello China\\r\\n\",\u001b[m\r\n",
      "\u001b[31m-      \"\\u001b[33md25e05e\\u001b[m add readme.txt\\r\\n\"\u001b[m\r\n",
      "\u001b[31m-     ]\u001b[m\r\n",
      "\u001b[31m-    }\u001b[m\r\n",
      "\u001b[31m-   ],\u001b[m\r\n",
      "\u001b[31m-   \"source\": [\u001b[m\r\n",
      "\u001b[31m-    \"!git log --oneline  --all\"\u001b[m\r\n",
      "\u001b[31m-   ]\u001b[m\r\n",
      "\u001b[31m-  },\u001b[m\r\n",
      "\u001b[31m-  {\u001b[m\r\n",
      "\u001b[31m-   \"cell_type\": \"code\",\u001b[m\r\n",
      "\u001b[31m-   \"execution_count\": 132,\u001b[m\r\n",
      "\u001b[31m-   \"metadata\": {},\u001b[m\r\n",
      "\u001b[31m-   \"outputs\": [\u001b[m\r\n",
      "\u001b[31m-    {\u001b[m\r\n",
      "\u001b[31m-     \"name\": \"stdout\",\u001b[m\r\n",
      "\u001b[31m-     \"output_type\": \"stream\",\u001b[m\r\n",
      "\u001b[31m-     \"text\": [\u001b[m\r\n",
      "\u001b[31m-      \"[master 9617b52] hello Beijng\\r\\n\",\u001b[m\r\n",
      "\u001b[31m-      \" 1 file changed, 1 insertion(+)\\r\\n\"\u001b[m\r\n",
      "\u001b[31m-     ]\u001b[m\r\n",
      "\u001b[31m-    }\u001b[m\r\n",
      "\u001b[31m-   ],\u001b[m\r\n",
      "\u001b[31m-   \"source\": [\u001b[m\r\n",
      "\u001b[31m-    \"!git commit -a -m\\\"hello Beijng\\\"\"\u001b[m\r\n",
      "\u001b[31m-   ]\u001b[m\r\n",
      "\u001b[31m-  },\u001b[m\r\n",
      "\u001b[31m-  {\u001b[m\r\n",
      "\u001b[31m-   \"cell_type\": \"code\",\u001b[m\r\n",
      "\u001b[31m-   \"execution_count\": 118,\u001b[m\r\n",
      "\u001b[31m-   \"metadata\": {},\u001b[m\r\n",
      "\u001b[31m-   \"outputs\": [\u001b[m\r\n",
      "\u001b[31m-    {\u001b[m\r\n",
      "\u001b[31m-     \"name\": \"stdout\",\u001b[m\r\n",
      "\u001b[31m-     \"output_type\": \"stream\",\u001b[m\r\n",
      "\u001b[31m-     \"text\": [\u001b[m\r\n",
      "\u001b[31m-      \"位于分支 master\\r\\n\",\u001b[m\r\n",
      "\u001b[31m-      \"您的分支领先 'origin/master' 共 1 个提交。\\r\\n\",\u001b[m\r\n",
      "\u001b[31m-      \"  （使用 \\\"git push\\\" 来发布您的本地提交）\\r\\n\",\u001b[m\r\n",
      "\u001b[31m-      \"尚未暂存以备提交的变更：\\r\\n\",\u001b[m\r\n",
      "\u001b[31m-      \"\\t\\u001b[31m修改：     readme.txt\\u001b[m\\r\\n\",\u001b[m\r\n",
      "\u001b[31m-      \"\\r\\n\",\u001b[m\r\n",
      "\u001b[31m-      \"未跟踪的文件:\\r\\n\",\u001b[m\r\n",
      "\u001b[31m-      \"\\t\\u001b[31m.ipynb_checkpoints/\\u001b[m\\r\\n\",\u001b[m\r\n",
      "\u001b[31m-      \"\\t\\u001b[31mGit-Tutorial-By-liaoxuefeng/\\u001b[m\\r\\n\",\u001b[m\r\n",
      "\u001b[31m-      \"\\t\\u001b[31mUntitled.ipynb\\u001b[m\\r\\n\",\u001b[m\r\n",
      "\u001b[31m-      \"\\r\\n\",\u001b[m\r\n",
      "\u001b[31m-      \"修改尚未加入提交\\r\\n\"\u001b[m\r\n",
      "\u001b[31m-     ]\u001b[m\r\n",
      "\u001b[31m-    }\u001b[m\r\n",
      "\u001b[31m-   ],\u001b[m\r\n",
      "\u001b[31m-   \"source\": [\u001b[m\r\n",
      "\u001b[31m-    \"!git commit -m\\\"hello Beijing\\\"\"\u001b[m\r\n",
      "\u001b[31m-   ]\u001b[m\r\n",
      "\u001b[31m-  },\u001b[m\r\n",
      "\u001b[31m-  {\u001b[m\r\n",
      "\u001b[31m-   \"cell_type\": \"code\",\u001b[m\r\n",
      "\u001b[31m-   \"execution_count\": 127,\u001b[m\r\n",
      "\u001b[31m-   \"metadata\": {},\u001b[m\r\n",
      "\u001b[31m-   \"outputs\": [],\u001b[m\r\n",
      "\u001b[31m-   \"source\": [\u001b[m\r\n",
      "\u001b[31m-    \"!gitk\"\u001b[m\r\n",
      "\u001b[31m-   ]\u001b[m\r\n",
      "\u001b[31m-  },\u001b[m\r\n",
      "\u001b[31m-  {\u001b[m\r\n",
      "\u001b[31m-   \"cell_type\": \"code\",\u001b[m\r\n",
      "\u001b[31m-   \"execution_count\": 133,\u001b[m\r\n",
      "\u001b[31m-   \"metadata\": {},\u001b[m\r\n",
      "\u001b[31m-   \"outputs\": [\u001b[m\r\n",
      "\u001b[31m-    {\u001b[m\r\n",
      "\u001b[31m-     \"name\": \"stdout\",\u001b[m\r\n",
      "\u001b[31m-     \"output_type\": \"stream\",\u001b[m\r\n",
      "\u001b[31m-     \"text\": [\u001b[m\r\n",
      "\u001b[31m-      \"\\u001b[33m9617b52\\u001b[m HEAD@{0}: commit: hello Beijng\\r\\n\",\u001b[m\r\n",
      "\u001b[31m-      \"\\u001b[33m29045c3\\u001b[m HEAD@{1}: reset: moving to HEAD^\\r\\n\",\u001b[m\r\n",
      "\u001b[31m-      \"\\u001b[33m2bf576c\\u001b[m HEAD@{2}: commit: hello Beijng\\r\\n\",\u001b[m\r\n",
      "\u001b[31m-      \"\\u001b[33m29045c3\\u001b[m HEAD@{3}: reset: moving to HEAD^\\r\\n\",\u001b[m\r\n",
      "\u001b[31m-      \"\\u001b[33m5997a43\\u001b[m HEAD@{4}: commit: hello Beijing\\r\\n\",\u001b[m\r\n",
      "\u001b[31m-      \"\\u001b[33m29045c3\\u001b[m HEAD@{5}: reset: moving to HEAD^\\r\\n\",\u001b[m\r\n",
      "\u001b[31m-      \"\\u001b[33m53fc133\\u001b[m HEAD@{6}: commit: hello Beijing\\r\\n\",\u001b[m\r\n",
      "\u001b[31m-      \"\\u001b[33m29045c3\\u001b[m HEAD@{7}: commit: hello China\\r\\n\",\u001b[m\r\n",
      "\u001b[31m-      \"\\u001b[33md25e05e\\u001b[m HEAD@{8}: reset: moving to HEAD^\\r\\n\",\u001b[m\r\n",
      "\u001b[31m-      \"\\u001b[33md7e18e8\\u001b[m HEAD@{9}: commit: hello\\r\\n\",\u001b[m\r\n",
      "\u001b[31m-      \"\\u001b[33md25e05e\\u001b[m HEAD@{10}: reset: moving to HEAD^\\r\\n\",\u001b[m\r\n",
      "\u001b[31m-      \"\\u001b[33m99dff75\\u001b[m HEAD@{11}: commit: hello\\r\\n\",\u001b[m\r\n",
      "\u001b[31m-      \"\\u001b[33md25e05e\\u001b[m HEAD@{12}: reset: moving to HEAD^\\r\\n\",\u001b[m\r\n",
      "\u001b[31m-      \"\\u001b[33mfef60ab\\u001b[m HEAD@{13}: reset: moving to HEAD^\\r\\n\",\u001b[m\r\n",
      "\u001b[31m-      \"\\u001b[33ma30c539\\u001b[m HEAD@{14}: commit: hello Beijng\\r\\n\",\u001b[m\r\n",
      "\u001b[31m-      \"\\u001b[33mfef60ab\\u001b[m HEAD@{15}: reset: moving to HEAD^\\r\\n\",\u001b[m\r\n",
      "\u001b[31m-      \"\\u001b[33m1cf0faa\\u001b[m HEAD@{16}: commit: hello Beijng\\r\\n\",\u001b[m\r\n",
      "\u001b[31m-      \"\\u001b[33mfef60ab\\u001b[m HEAD@{17}: reset: moving to HEAD^\\r\\n\",\u001b[m\r\n",
      "\u001b[31m-      \"\\u001b[33m713c8c6\\u001b[m HEAD@{18}: commit: hello Beijing\\r\\n\",\u001b[m\r\n",
      "\u001b[31m-      \"\\u001b[33mfef60ab\\u001b[m HEAD@{19}: commit: hello China\\r\\n\",\u001b[m\r\n",
      "\u001b[31m-      \"\\u001b[33md25e05e\\u001b[m HEAD@{20}: reset: moving to HEAD^\\r\\n\",\u001b[m\r\n",
      "\u001b[31m-      \"\\u001b[33meb4ecaa\\u001b[m HEAD@{21}: commit: hello Beijing\\r\\n\",\u001b[m\r\n",
      "\u001b[31m-      \"\\u001b[33md25e05e\\u001b[m HEAD@{22}: reset: moving to HEAD^\\r\\n\",\u001b[m\r\n",
      "\u001b[31m-      \"\\u001b[33m43bfda0\\u001b[m HEAD@{23}: reset: moving to HEAD^\\r\\n\",\u001b[m\r\n",
      "\u001b[31m-      \"\\u001b[33m6acd96c\\u001b[m HEAD@{24}: commit: hello Beijing\\r\\n\",\u001b[m\r\n",
      "\u001b[31m-      \"\\u001b[33m43bfda0\\u001b[m HEAD@{25}: commit: hello China\\r\\n\",\u001b[m\r\n",
      "\u001b[31m-      \"\\u001b[33md25e05e\\u001b[m HEAD@{26}: commit (initial): add readme.txt\\r\\n\"\u001b[m\r\n",
      "\u001b[31m-     ]\u001b[m\r\n",
      "\u001b[31m-    }\u001b[m\r\n",
      "\u001b[31m-   ],\u001b[m\r\n",
      "\u001b[31m-   \"source\": [\u001b[m\r\n",
      "\u001b[31m-    \"!git reflog\"\u001b[m\r\n",
      "\u001b[31m-   ]\u001b[m\r\n",
      "\u001b[31m-  },\u001b[m\r\n",
      "\u001b[31m-  {\u001b[m\r\n",
      "\u001b[31m-   \"cell_type\": \"code\",\u001b[m\r\n",
      "\u001b[31m-   \"execution_count\": 140,\u001b[m\r\n",
      "\u001b[31m-   \"metadata\": {},\u001b[m\r\n",
      "\u001b[31m-   \"outputs\": [\u001b[m\r\n",
      "\u001b[31m-    {\u001b[m\r\n",
      "\u001b[31m-     \"name\": \"stdout\",\u001b[m\r\n",
      "\u001b[31m-     \"output_type\": \"stream\",\u001b[m\r\n",
      "\u001b[31m-     \"text\": [\u001b[m\r\n",
      "\u001b[31m-      \"HEAD 现在位于 9617b52 hello Beijng\\r\\n\"\u001b[m\r\n",
      "\u001b[31m-     ]\u001b[m\r\n",
      "\u001b[31m-    }\u001b[m\r\n",
      "\u001b[31m-   ],\u001b[m\r\n",
      "\u001b[31m-   \"source\": [\u001b[m\r\n",
      "\u001b[31m-    \"!git reset --hard 9617b52\"\u001b[m\r\n",
      "\u001b[31m-   ]\u001b[m\r\n",
      "\u001b[31m-  },\u001b[m\r\n",
      "\u001b[31m-  {\u001b[m\r\n",
      "\u001b[31m-   \"cell_type\": \"code\",\u001b[m\r\n",
      "\u001b[31m-   \"execution_count\": 141,\u001b[m\r\n",
      "\u001b[31m-   \"metadata\": {},\u001b[m\r\n",
      "\u001b[31m-   \"outputs\": [],\u001b[m\r\n",
      "\u001b[31m-   \"source\": [\u001b[m\r\n",
      "\u001b[31m-    \"pycat readme.txt\"\u001b[m\r\n",
      "\u001b[31m-   ]\u001b[m\r\n",
      "\u001b[31m-  },\u001b[m\r\n",
      "\u001b[31m-  {\u001b[m\r\n",
      "\u001b[31m-   \"cell_type\": \"code\",\u001b[m\r\n",
      "\u001b[31m-   \"execution_count\": 142,\u001b[m\r\n",
      "\u001b[31m-   \"metadata\": {},\u001b[m\r\n",
      "\u001b[31m-   \"outputs\": [],\u001b[m\r\n",
      "\u001b[31m-   \"source\": [\u001b[m\r\n",
      "\u001b[31m-    \"!echo 'hello xichen'>>readme.txt\"\u001b[m\r\n",
      "\u001b[31m-   ]\u001b[m\r\n",
      "\u001b[31m-  },\u001b[m\r\n",
      "\u001b[31m-  {\u001b[m\r\n",
      "\u001b[31m-   \"cell_type\": \"code\",\u001b[m\r\n",
      "\u001b[31m-   \"execution_count\": 154,\u001b[m\r\n",
      "\u001b[31m-   \"metadata\": {},\u001b[m\r\n",
      "\u001b[31m-   \"outputs\": [],\u001b[m\r\n",
      "\u001b[31m-   \"source\": [\u001b[m\r\n",
      "\u001b[31m-    \"pycat readme.txt\"\u001b[m\r\n",
      "\u001b[31m-   ]\u001b[m\r\n",
      "\u001b[31m-  },\u001b[m\r\n",
      "\u001b[31m-  {\u001b[m\r\n",
      "\u001b[31m-   \"cell_type\": \"code\",\u001b[m\r\n",
      "\u001b[31m-   \"execution_count\": 145,\u001b[m\r\n",
      "\u001b[31m-   \"metadata\": {},\u001b[m\r\n",
      "\u001b[31m-   \"outputs\": [],\u001b[m\r\n",
      "\u001b[31m-   \"source\": [\u001b[m\r\n",
      "\u001b[31m-    \"!git add -A\"\u001b[m\r\n",
      "\u001b[31m-   ]\u001b[m\r\n",
      "\u001b[31m-  },\u001b[m\r\n",
      "\u001b[31m-  {\u001b[m\r\n",
      "\u001b[31m-   \"cell_type\": \"code\",\u001b[m\r\n",
      "\u001b[31m-   \"execution_count\": 159,\u001b[m\r\n",
      "\u001b[31m-   \"metadata\": {},\u001b[m\r\n",
      "\u001b[31m-   \"outputs\": [],\u001b[m\r\n",
      "\u001b[31m-   \"source\": [\u001b[m\r\n",
      "\u001b[31m-    \"!echo '戴妍至'>readme.txt\"\u001b[m\r\n",
      "\u001b[31m-   ]\u001b[m\r\n",
      "\u001b[31m-  },\u001b[m\r\n",
      "\u001b[31m-  {\u001b[m\r\n",
      "\u001b[31m-   \"cell_type\": \"code\",\u001b[m\r\n",
      "\u001b[31m-   \"execution_count\": 163,\u001b[m\r\n",
      "\u001b[31m-   \"metadata\": {},\u001b[m\r\n",
      "\u001b[31m-   \"outputs\": [],\u001b[m\r\n",
      "\u001b[31m-   \"source\": [\u001b[m\r\n",
      "\u001b[31m-    \"pycat readme.txt\"\u001b[m\r\n",
      "\u001b[31m-   ]\u001b[m\r\n",
      "\u001b[31m-  },\u001b[m\r\n",
      "\u001b[31m-  {\u001b[m\r\n",
      "\u001b[31m-   \"cell_type\": \"code\",\u001b[m\r\n",
      "\u001b[31m-   \"execution_count\": 162,\u001b[m\r\n",
      "\u001b[31m-   \"metadata\": {},\u001b[m\r\n",
      "\u001b[31m-   \"outputs\": [],\u001b[m\r\n",
      "\u001b[31m-   \"source\": [\u001b[m\r\n",
      "\u001b[31m-    \"!git checkout readme.txt\"\u001b[m\r\n",
      "\u001b[31m-   ]\u001b[m\r\n",
      "\u001b[31m-  },\u001b[m\r\n",
      "\u001b[31m-  {\u001b[m\r\n",
      "\u001b[31m-   \"cell_type\": \"code\",\u001b[m\r\n",
      "\u001b[31m-   \"execution_count\": 164,\u001b[m\r\n",
      "\u001b[31m-   \"metadata\": {},\u001b[m\r\n",
      "\u001b[31m-   \"outputs\": [],\u001b[m\r\n",
      "\u001b[31m-   \"source\": [\u001b[m\r\n",
      "\u001b[31m-    \"!echo \\\"I love you!\\\">>newfile.txt\"\u001b[m\r\n",
      "\u001b[31m-   ]\u001b[m\r\n",
      "\u001b[31m-  },\u001b[m\r\n",
      "\u001b[31m-  {\u001b[m\r\n",
      "\u001b[31m-   \"cell_type\": \"code\",\u001b[m\r\n",
      "\u001b[31m-   \"execution_count\": null,\u001b[m\r\n",
      "\u001b[31m-   \"metadata\": {},\u001b[m\r\n",
      "\u001b[31m-   \"outputs\": [],\u001b[m\r\n",
      "\u001b[31m-   \"source\": [\u001b[m\r\n",
      "\u001b[31m-    \"pycat newfile.\"\u001b[m\r\n",
      "\u001b[31m-   ]\u001b[m\r\n",
      "\u001b[31m-  }\u001b[m\r\n",
      "\u001b[31m- ],\u001b[m\r\n",
      "\u001b[31m- \"metadata\": {\u001b[m\r\n",
      "\u001b[31m-  \"kernelspec\": {\u001b[m\r\n",
      "\u001b[31m-   \"display_name\": \"Python 3\",\u001b[m\r\n",
      "\u001b[31m-   \"language\": \"python\",\u001b[m\r\n",
      "\u001b[31m-   \"name\": \"python3\"\u001b[m\r\n",
      "\u001b[31m-  },\u001b[m\r\n",
      "\u001b[31m-  \"language_info\": {\u001b[m\r\n",
      "\u001b[31m-   \"codemirror_mode\": {\u001b[m\r\n",
      "\u001b[31m-    \"name\": \"ipython\",\u001b[m\r\n",
      "\u001b[31m-    \"version\": 3\u001b[m\r\n",
      "\u001b[31m-   },\u001b[m\r\n",
      "\u001b[31m-   \"file_extension\": \".py\",\u001b[m\r\n",
      "\u001b[31m-   \"mimetype\": \"text/x-python\",\u001b[m\r\n",
      "\u001b[31m-   \"name\": \"python\",\u001b[m\r\n",
      "\u001b[31m-   \"nbconvert_exporter\": \"python\",\u001b[m\r\n",
      "\u001b[31m-   \"pygments_lexer\": \"ipython3\",\u001b[m\r\n",
      "\u001b[31m-   \"version\": \"3.6.4\"\u001b[m\r\n",
      "\u001b[31m-  }\u001b[m\r\n",
      "\u001b[31m- },\u001b[m\r\n",
      "\u001b[31m- \"nbformat\": 4,\u001b[m\r\n",
      "\u001b[31m- \"nbformat_minor\": 2\u001b[m\r\n",
      "\u001b[31m-}\u001b[m\r\n",
      "\u001b[1mdiff --git a/readme.txt b/readme.txt\u001b[m\r\n",
      "\u001b[1mindex f2ceff0..f083054 100644\u001b[m\r\n",
      "\u001b[1m--- a/readme.txt\u001b[m\r\n",
      "\u001b[1m+++ b/readme.txt\u001b[m\r\n",
      "\u001b[36m@@ -1,4 +1,2 @@\u001b[m\r\n",
      " hello world\u001b[m\r\n",
      " Hello China\u001b[m\r\n",
      "\u001b[31m-Hello Beijing\u001b[m\r\n",
      "\u001b[31m-hello xichen\u001b[m\r\n"
     ]
    }
   ],
   "source": [
    "!git diff 78325e3 29045c3"
   ]
  },
  {
   "cell_type": "code",
   "execution_count": 191,
   "metadata": {},
   "outputs": [],
   "source": [
    "!git remote add github git@github.com:zhangxiangyang001/git-learn.git"
   ]
  },
  {
   "cell_type": "code",
   "execution_count": 194,
   "metadata": {},
   "outputs": [
    {
     "name": "stdout",
     "output_type": "stream",
     "text": [
      "gitee\thttps://gitee.com/YuWoChangZai002/git-learn.git (fetch)\r\n",
      "gitee\thttps://gitee.com/YuWoChangZai002/git-learn.git (push)\r\n",
      "github\tgit@github.com:zhangxiangyang001/git-learn.git (fetch)\r\n",
      "github\tgit@github.com:zhangxiangyang001/git-learn.git (push)\r\n",
      "origin\thttps://github.com/zhangxiangyang001/git-learn.git (fetch)\r\n",
      "origin\thttps://github.com/zhangxiangyang001/git-learn.git (push)\r\n"
     ]
    }
   ],
   "source": [
    "!git remote -v"
   ]
  },
  {
   "cell_type": "code",
   "execution_count": 193,
   "metadata": {},
   "outputs": [],
   "source": [
    "!git remote add gitee https://gitee.com/YuWoChangZai002/git-learn.git"
   ]
  },
  {
   "cell_type": "code",
   "execution_count": 195,
   "metadata": {},
   "outputs": [
    {
     "name": "stdout",
     "output_type": "stream",
     "text": [
      "warning: push.default 尚未设置，它的默认值在 Git 2.0 已从 'matching'\n",
      "变更为 'simple'。若要不再显示本信息并保持传统习惯，进行如下设置：\n",
      "\n",
      "  git config --global push.default matching\n",
      "\n",
      "若要不再显示本信息并从现在开始采用新的使用习惯，设置：\n",
      "\n",
      "  git config --global push.default simple\n",
      "\n",
      "当 push.default 设置为 'matching' 后，git 将推送和远程同名的所有\n",
      "本地分支。\n",
      "\n",
      "从 Git 2.0 开始，Git 默认采用更为保守的 'simple' 模式，只推送当前\n",
      "分支到远程关联的同名分支，即 'git push' 推送当前分支。\n",
      "\n",
      "参见 'git help config' 并查找 'push.default' 以获取更多信息。\n",
      "（'simple' 模式由 Git 1.7.11 版本引入。如果您有时要使用老版本的 Git，\n",
      "为保持兼容，请用 'current' 代替 'simple'）\n",
      "\n",
      "Warning: Permanently added the RSA host key for IP address '13.250.177.223' to the list of known hosts.\n",
      "对象计数中: 15, 完成.\n",
      "Delta compression using up to 4 threads.\n",
      "压缩对象中: 100% (10/10), 完成.\n",
      "写入对象中: 100% (15/15), 3.70 KiB | 0 bytes/s, 完成.\n",
      "Total 15 (delta 1), reused 0 (delta 0)\n",
      "remote: Resolving deltas: 100% (1/1), done.\u001b[K\n",
      "To git@github.com:zhangxiangyang001/git-learn.git\n",
      "   d25e05e..78325e3  master -> master\n",
      "分支 master 设置为跟踪来自 github 的远程分支 master。\n"
     ]
    }
   ],
   "source": [
    "!git push -u github "
   ]
  },
  {
   "cell_type": "code",
   "execution_count": null,
   "metadata": {},
   "outputs": [],
   "source": []
  },
  {
   "cell_type": "code",
   "execution_count": null,
   "metadata": {},
   "outputs": [],
   "source": []
  },
  {
   "cell_type": "code",
   "execution_count": null,
   "metadata": {},
   "outputs": [],
   "source": []
  },
  {
   "cell_type": "code",
   "execution_count": null,
   "metadata": {},
   "outputs": [],
   "source": []
  },
  {
   "cell_type": "code",
   "execution_count": null,
   "metadata": {},
   "outputs": [],
   "source": []
  },
  {
   "cell_type": "code",
   "execution_count": null,
   "metadata": {},
   "outputs": [],
   "source": []
  }
 ],
 "metadata": {
  "kernelspec": {
   "display_name": "Python 3",
   "language": "python",
   "name": "python3"
  },
  "language_info": {
   "codemirror_mode": {
    "name": "ipython",
    "version": 3
   },
   "file_extension": ".py",
   "mimetype": "text/x-python",
   "name": "python",
   "nbconvert_exporter": "python",
   "pygments_lexer": "ipython3",
   "version": "3.6.4"
  }
 },
 "nbformat": 4,
 "nbformat_minor": 2
}
