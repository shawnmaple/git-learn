{
 "cells": [
  {
   "cell_type": "code",
   "execution_count": 100,
   "metadata": {},
   "outputs": [],
   "source": [
    "!gitk"
   ]
  },
  {
   "cell_type": "code",
   "execution_count": 103,
   "metadata": {},
   "outputs": [],
   "source": [
    "!echo \"Hello China\">>readme.txt"
   ]
  },
  {
   "cell_type": "code",
   "execution_count": 104,
   "metadata": {},
   "outputs": [],
   "source": [
    "%pycat readme.txt"
   ]
  },
  {
   "cell_type": "code",
   "execution_count": 105,
   "metadata": {},
   "outputs": [
    {
     "name": "stdout",
     "output_type": "stream",
     "text": [
      "[master 29045c3] hello China\r\n",
      " 1 file changed, 1 insertion(+)\r\n"
     ]
    }
   ],
   "source": [
    "!git commit -a -m\"hello China\""
   ]
  },
  {
   "cell_type": "code",
   "execution_count": 106,
   "metadata": {},
   "outputs": [],
   "source": [
    "!echo \"Hello Beijing\">>readme.txt"
   ]
  },
  {
   "cell_type": "code",
   "execution_count": 107,
   "metadata": {},
   "outputs": [],
   "source": [
    "!git add -A"
   ]
  },
  {
   "cell_type": "code",
   "execution_count": 108,
   "metadata": {},
   "outputs": [
    {
     "name": "stdout",
     "output_type": "stream",
     "text": [
      "[master 53fc133] hello Beijing\r\n",
      " 4 files changed, 438 insertions(+)\r\n",
      " create mode 100644 .ipynb_checkpoints/Untitled-checkpoint.ipynb\r\n",
      " create mode 160000 Git-Tutorial-By-liaoxuefeng\r\n",
      " create mode 100644 Untitled.ipynb\r\n"
     ]
    }
   ],
   "source": [
    "!git commit -m\"hello Beijing\""
   ]
  },
  {
   "cell_type": "code",
   "execution_count": 109,
   "metadata": {},
   "outputs": [
    {
     "name": "stdout",
     "output_type": "stream",
     "text": [
      "\u001b[33mcommit 53fc1332b67acca4dd9868e146f80af8cb2d0fca\u001b[m\r\n",
      "Author: Shawn <18829354118@163.com>\r\n",
      "Date:   Mon Apr 16 16:11:13 2018 +0800\r\n",
      "\r\n",
      "    hello Beijing\r\n",
      "\r\n",
      "\u001b[33mcommit 29045c354620fa39a13c053c42ced6ba3cf0e77a\u001b[m\r\n",
      "Author: Shawn <18829354118@163.com>\r\n",
      "Date:   Mon Apr 16 16:11:10 2018 +0800\r\n",
      "\r\n",
      "    hello China\r\n",
      "\r\n",
      "\u001b[33mcommit d25e05ebfd3bf7a11bf5bb942a5d85dbb314c0f1\u001b[m\r\n",
      "Author: Shawn <18829354118@163.com>\r\n",
      "Date:   Sun Apr 15 21:36:24 2018 +0800\r\n",
      "\r\n",
      "    add readme.txt\r\n"
     ]
    }
   ],
   "source": [
    "!git log"
   ]
  },
  {
   "cell_type": "code",
   "execution_count": 124,
   "metadata": {},
   "outputs": [
    {
     "name": "stdout",
     "output_type": "stream",
     "text": [
      "重置后取消暂存的变更：\r\n",
      "M\treadme.txt\r\n"
     ]
    }
   ],
   "source": [
    "!git reset --mixed HEAD^"
   ]
  },
  {
   "cell_type": "code",
   "execution_count": 131,
   "metadata": {},
   "outputs": [],
   "source": [
    "pycat readme.txt"
   ]
  },
  {
   "cell_type": "code",
   "execution_count": 126,
   "metadata": {
    "scrolled": false
   },
   "outputs": [
    {
     "name": "stdout",
     "output_type": "stream",
     "text": [
      "\u001b[33m29045c3\u001b[m hello China\r\n",
      "\u001b[33md25e05e\u001b[m add readme.txt\r\n"
     ]
    }
   ],
   "source": [
    "!git log --oneline  --all"
   ]
  },
  {
   "cell_type": "code",
   "execution_count": 132,
   "metadata": {},
   "outputs": [
    {
     "name": "stdout",
     "output_type": "stream",
     "text": [
      "[master 9617b52] hello Beijng\r\n",
      " 1 file changed, 1 insertion(+)\r\n"
     ]
    }
   ],
   "source": [
    "!git commit -a -m\"hello Beijng\""
   ]
  },
  {
   "cell_type": "code",
   "execution_count": 118,
   "metadata": {},
   "outputs": [
    {
     "name": "stdout",
     "output_type": "stream",
     "text": [
      "位于分支 master\r\n",
      "您的分支领先 'origin/master' 共 1 个提交。\r\n",
      "  （使用 \"git push\" 来发布您的本地提交）\r\n",
      "尚未暂存以备提交的变更：\r\n",
      "\t\u001b[31m修改：     readme.txt\u001b[m\r\n",
      "\r\n",
      "未跟踪的文件:\r\n",
      "\t\u001b[31m.ipynb_checkpoints/\u001b[m\r\n",
      "\t\u001b[31mGit-Tutorial-By-liaoxuefeng/\u001b[m\r\n",
      "\t\u001b[31mUntitled.ipynb\u001b[m\r\n",
      "\r\n",
      "修改尚未加入提交\r\n"
     ]
    }
   ],
   "source": [
    "!git commit -m\"hello Beijing\""
   ]
  },
  {
   "cell_type": "code",
   "execution_count": 127,
   "metadata": {},
   "outputs": [],
   "source": [
    "!gitk"
   ]
  },
  {
   "cell_type": "code",
   "execution_count": 133,
   "metadata": {},
   "outputs": [
    {
     "name": "stdout",
     "output_type": "stream",
     "text": [
      "\u001b[33m9617b52\u001b[m HEAD@{0}: commit: hello Beijng\r\n",
      "\u001b[33m29045c3\u001b[m HEAD@{1}: reset: moving to HEAD^\r\n",
      "\u001b[33m2bf576c\u001b[m HEAD@{2}: commit: hello Beijng\r\n",
      "\u001b[33m29045c3\u001b[m HEAD@{3}: reset: moving to HEAD^\r\n",
      "\u001b[33m5997a43\u001b[m HEAD@{4}: commit: hello Beijing\r\n",
      "\u001b[33m29045c3\u001b[m HEAD@{5}: reset: moving to HEAD^\r\n",
      "\u001b[33m53fc133\u001b[m HEAD@{6}: commit: hello Beijing\r\n",
      "\u001b[33m29045c3\u001b[m HEAD@{7}: commit: hello China\r\n",
      "\u001b[33md25e05e\u001b[m HEAD@{8}: reset: moving to HEAD^\r\n",
      "\u001b[33md7e18e8\u001b[m HEAD@{9}: commit: hello\r\n",
      "\u001b[33md25e05e\u001b[m HEAD@{10}: reset: moving to HEAD^\r\n",
      "\u001b[33m99dff75\u001b[m HEAD@{11}: commit: hello\r\n",
      "\u001b[33md25e05e\u001b[m HEAD@{12}: reset: moving to HEAD^\r\n",
      "\u001b[33mfef60ab\u001b[m HEAD@{13}: reset: moving to HEAD^\r\n",
      "\u001b[33ma30c539\u001b[m HEAD@{14}: commit: hello Beijng\r\n",
      "\u001b[33mfef60ab\u001b[m HEAD@{15}: reset: moving to HEAD^\r\n",
      "\u001b[33m1cf0faa\u001b[m HEAD@{16}: commit: hello Beijng\r\n",
      "\u001b[33mfef60ab\u001b[m HEAD@{17}: reset: moving to HEAD^\r\n",
      "\u001b[33m713c8c6\u001b[m HEAD@{18}: commit: hello Beijing\r\n",
      "\u001b[33mfef60ab\u001b[m HEAD@{19}: commit: hello China\r\n",
      "\u001b[33md25e05e\u001b[m HEAD@{20}: reset: moving to HEAD^\r\n",
      "\u001b[33meb4ecaa\u001b[m HEAD@{21}: commit: hello Beijing\r\n",
      "\u001b[33md25e05e\u001b[m HEAD@{22}: reset: moving to HEAD^\r\n",
      "\u001b[33m43bfda0\u001b[m HEAD@{23}: reset: moving to HEAD^\r\n",
      "\u001b[33m6acd96c\u001b[m HEAD@{24}: commit: hello Beijing\r\n",
      "\u001b[33m43bfda0\u001b[m HEAD@{25}: commit: hello China\r\n",
      "\u001b[33md25e05e\u001b[m HEAD@{26}: commit (initial): add readme.txt\r\n"
     ]
    }
   ],
   "source": [
    "!git reflog"
   ]
  },
  {
   "cell_type": "code",
   "execution_count": 140,
   "metadata": {},
   "outputs": [
    {
     "name": "stdout",
     "output_type": "stream",
     "text": [
      "HEAD 现在位于 9617b52 hello Beijng\r\n"
     ]
    }
   ],
   "source": [
    "!git reset --hard 9617b52"
   ]
  },
  {
   "cell_type": "code",
   "execution_count": 141,
   "metadata": {},
   "outputs": [],
   "source": [
    "pycat readme.txt"
   ]
  },
  {
   "cell_type": "code",
   "execution_count": 142,
   "metadata": {},
   "outputs": [],
   "source": [
    "!echo 'hello xichen'>>readme.txt"
   ]
  },
  {
   "cell_type": "code",
   "execution_count": 154,
   "metadata": {},
   "outputs": [],
   "source": [
    "pycat readme.txt"
   ]
  },
  {
   "cell_type": "code",
   "execution_count": 145,
   "metadata": {},
   "outputs": [],
   "source": [
    "!git add -A"
   ]
  },
  {
   "cell_type": "code",
   "execution_count": 159,
   "metadata": {},
   "outputs": [],
   "source": [
    "!echo '戴妍至'>readme.txt"
   ]
  },
  {
   "cell_type": "code",
   "execution_count": 163,
   "metadata": {},
   "outputs": [],
   "source": [
    "pycat readme.txt"
   ]
  },
  {
   "cell_type": "code",
   "execution_count": 162,
   "metadata": {},
   "outputs": [],
   "source": [
    "!git checkout readme.txt"
   ]
  },
  {
   "cell_type": "code",
   "execution_count": 164,
   "metadata": {},
   "outputs": [],
   "source": [
    "!echo \"I love you!\">>newfile.txt"
   ]
  },
  {
   "cell_type": "code",
   "execution_count": null,
   "metadata": {},
   "outputs": [],
   "source": [
    "pycat newfile."
   ]
  }
 ],
 "metadata": {
  "kernelspec": {
   "display_name": "Python 3",
   "language": "python",
   "name": "python3"
  },
  "language_info": {
   "codemirror_mode": {
    "name": "ipython",
    "version": 3
   },
   "file_extension": ".py",
   "mimetype": "text/x-python",
   "name": "python",
   "nbconvert_exporter": "python",
   "pygments_lexer": "ipython3",
   "version": "3.6.4"
  }
 },
 "nbformat": 4,
 "nbformat_minor": 2
}
