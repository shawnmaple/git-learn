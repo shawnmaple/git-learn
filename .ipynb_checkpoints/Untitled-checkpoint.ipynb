{
 "cells": [
  {
   "cell_type": "code",
   "execution_count": 22,
   "metadata": {},
   "outputs": [],
   "source": [
    "!gitk"
   ]
  },
  {
   "cell_type": "code",
   "execution_count": 47,
   "metadata": {},
   "outputs": [],
   "source": [
    "!echo \"Hello China\">>readme.txt"
   ]
  },
  {
   "cell_type": "code",
   "execution_count": 50,
   "metadata": {},
   "outputs": [],
   "source": [
    "%pycat readme.txt"
   ]
  },
  {
   "cell_type": "code",
   "execution_count": 14,
   "metadata": {},
   "outputs": [
    {
     "name": "stdout",
     "output_type": "stream",
     "text": [
      "[master 43bfda0] hello China\r\n",
      " 1 file changed, 3 insertions(+)\r\n"
     ]
    }
   ],
   "source": [
    "!git commit -a -m\"hello China\""
   ]
  },
  {
   "cell_type": "code",
   "execution_count": 49,
   "metadata": {},
   "outputs": [],
   "source": [
    "!echo \"Hello Beijing\">>readme.txt"
   ]
  },
  {
   "cell_type": "code",
   "execution_count": 51,
   "metadata": {},
   "outputs": [],
   "source": [
    "!git add -A"
   ]
  },
  {
   "cell_type": "code",
   "execution_count": 52,
   "metadata": {},
   "outputs": [
    {
     "name": "stdout",
     "output_type": "stream",
     "text": [
      "[master eb4ecaa] hello Beijing\r\n",
      " 4 files changed, 186 insertions(+)\r\n",
      " create mode 100644 .ipynb_checkpoints/Untitled-checkpoint.ipynb\r\n",
      " create mode 160000 Git-Tutorial-By-liaoxuefeng\r\n",
      " create mode 100644 Untitled.ipynb\r\n"
     ]
    }
   ],
   "source": [
    "!git commit -m\"hello Beijing\""
   ]
  },
  {
   "cell_type": "code",
   "execution_count": 24,
   "metadata": {},
   "outputs": [
    {
     "name": "stdout",
     "output_type": "stream",
     "text": [
      "\u001b[33mcommit 6acd96c77f51f2e3299ce0542feb279dca3665cc\u001b[m\r\n",
      "Author: Shawn <18829354118@163.com>\r\n",
      "Date:   Mon Apr 16 15:31:37 2018 +0800\r\n",
      "\r\n",
      "    hello Beijing\r\n",
      "\r\n",
      "\u001b[33mcommit 43bfda0713624c2064213f84177260a4a0734a12\u001b[m\r\n",
      "Author: Shawn <18829354118@163.com>\r\n",
      "Date:   Mon Apr 16 15:26:31 2018 +0800\r\n",
      "\r\n",
      "    hello China\r\n",
      "\r\n",
      "\u001b[33mcommit d25e05ebfd3bf7a11bf5bb942a5d85dbb314c0f1\u001b[m\r\n",
      "Author: Shawn <18829354118@163.com>\r\n",
      "Date:   Sun Apr 15 21:36:24 2018 +0800\r\n",
      "\r\n",
      "    add readme.txt\r\n"
     ]
    }
   ],
   "source": [
    "!git log"
   ]
  },
  {
   "cell_type": "code",
   "execution_count": 54,
   "metadata": {},
   "outputs": [
    {
     "name": "stdout",
     "output_type": "stream",
     "text": [
      "warning: unable to rmdir Git-Tutorial-By-liaoxuefeng: 目录非空\r\n",
      "HEAD 现在位于 d25e05e add readme.txt\r\n"
     ]
    }
   ],
   "source": [
    "!git reset --hard HEAD^"
   ]
  },
  {
   "cell_type": "code",
   "execution_count": 45,
   "metadata": {},
   "outputs": [],
   "source": [
    "pycat readme.txt"
   ]
  },
  {
   "cell_type": "code",
   "execution_count": 53,
   "metadata": {
    "scrolled": false
   },
   "outputs": [
    {
     "name": "stdout",
     "output_type": "stream",
     "text": [
      "\u001b[33mcommit eb4ecaa638f69a02358c73ca9d0df697855dee4e\u001b[m\r\n",
      "Author: Shawn <18829354118@163.com>\r\n",
      "Date:   Mon Apr 16 15:48:15 2018 +0800\r\n",
      "\r\n",
      "    hello Beijing\r\n",
      "\r\n",
      "\u001b[33mcommit d25e05ebfd3bf7a11bf5bb942a5d85dbb314c0f1\u001b[m\r\n",
      "Author: Shawn <18829354118@163.com>\r\n",
      "Date:   Sun Apr 15 21:36:24 2018 +0800\r\n",
      "\r\n",
      "    add readme.txt\r\n"
     ]
    }
   ],
   "source": [
    "!git log"
   ]
  },
  {
   "cell_type": "code",
   "execution_count": null,
   "metadata": {},
   "outputs": [],
   "source": []
  }
 ],
 "metadata": {
  "kernelspec": {
   "display_name": "Python 3",
   "language": "python",
   "name": "python3"
  },
  "language_info": {
   "codemirror_mode": {
    "name": "ipython",
    "version": 3
   },
   "file_extension": ".py",
   "mimetype": "text/x-python",
   "name": "python",
   "nbconvert_exporter": "python",
   "pygments_lexer": "ipython3",
   "version": "3.6.4"
  }
 },
 "nbformat": 4,
 "nbformat_minor": 2
}
